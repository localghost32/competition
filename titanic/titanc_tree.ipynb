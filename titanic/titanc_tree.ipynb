{
 "cells": [
  {
   "cell_type": "markdown",
   "metadata": {},
   "source": [
    "# Titanic. Who survive?"
   ]
  },
  {
   "cell_type": "markdown",
   "metadata": {},
   "source": [
    "https://www.kaggle.com/c/titanic/"
   ]
  },
  {
   "cell_type": "code",
   "execution_count": 23,
   "metadata": {},
   "outputs": [],
   "source": [
    "import numpy as np\n",
    "import pandas as pd"
   ]
  },
  {
   "cell_type": "code",
   "execution_count": 24,
   "metadata": {},
   "outputs": [],
   "source": [
    "from matplotlib import pyplot as plt\n",
    "%matplotlib inline\n",
    "import seaborn as sns\n",
    "\n",
    "%config InlineBackend.figure_format = 'retina'\n",
    "from pylab import rcParams\n",
    "rcParams['figure.figsize'] = (9, 6)"
   ]
  },
  {
   "cell_type": "markdown",
   "metadata": {},
   "source": [
    "### Data"
   ]
  },
  {
   "cell_type": "code",
   "execution_count": 25,
   "metadata": {},
   "outputs": [],
   "source": [
    "train = pd.read_csv('train.csv')\n",
    "test = pd.read_csv('test.csv')"
   ]
  },
  {
   "cell_type": "code",
   "execution_count": 26,
   "metadata": {
    "scrolled": true
   },
   "outputs": [
    {
     "data": {
      "text/html": [
       "<div>\n",
       "<style scoped>\n",
       "    .dataframe tbody tr th:only-of-type {\n",
       "        vertical-align: middle;\n",
       "    }\n",
       "\n",
       "    .dataframe tbody tr th {\n",
       "        vertical-align: top;\n",
       "    }\n",
       "\n",
       "    .dataframe thead th {\n",
       "        text-align: right;\n",
       "    }\n",
       "</style>\n",
       "<table border=\"1\" class=\"dataframe\">\n",
       "  <thead>\n",
       "    <tr style=\"text-align: right;\">\n",
       "      <th></th>\n",
       "      <th>PassengerId</th>\n",
       "      <th>Survived</th>\n",
       "      <th>Pclass</th>\n",
       "      <th>Name</th>\n",
       "      <th>Sex</th>\n",
       "      <th>Age</th>\n",
       "      <th>SibSp</th>\n",
       "      <th>Parch</th>\n",
       "      <th>Ticket</th>\n",
       "      <th>Fare</th>\n",
       "      <th>Cabin</th>\n",
       "      <th>Embarked</th>\n",
       "    </tr>\n",
       "  </thead>\n",
       "  <tbody>\n",
       "    <tr>\n",
       "      <th>0</th>\n",
       "      <td>1</td>\n",
       "      <td>0</td>\n",
       "      <td>3</td>\n",
       "      <td>Braund, Mr. Owen Harris</td>\n",
       "      <td>male</td>\n",
       "      <td>22.0</td>\n",
       "      <td>1</td>\n",
       "      <td>0</td>\n",
       "      <td>A/5 21171</td>\n",
       "      <td>7.2500</td>\n",
       "      <td>NaN</td>\n",
       "      <td>S</td>\n",
       "    </tr>\n",
       "    <tr>\n",
       "      <th>1</th>\n",
       "      <td>2</td>\n",
       "      <td>1</td>\n",
       "      <td>1</td>\n",
       "      <td>Cumings, Mrs. John Bradley (Florence Briggs Th...</td>\n",
       "      <td>female</td>\n",
       "      <td>38.0</td>\n",
       "      <td>1</td>\n",
       "      <td>0</td>\n",
       "      <td>PC 17599</td>\n",
       "      <td>71.2833</td>\n",
       "      <td>C85</td>\n",
       "      <td>C</td>\n",
       "    </tr>\n",
       "    <tr>\n",
       "      <th>2</th>\n",
       "      <td>3</td>\n",
       "      <td>1</td>\n",
       "      <td>3</td>\n",
       "      <td>Heikkinen, Miss. Laina</td>\n",
       "      <td>female</td>\n",
       "      <td>26.0</td>\n",
       "      <td>0</td>\n",
       "      <td>0</td>\n",
       "      <td>STON/O2. 3101282</td>\n",
       "      <td>7.9250</td>\n",
       "      <td>NaN</td>\n",
       "      <td>S</td>\n",
       "    </tr>\n",
       "    <tr>\n",
       "      <th>3</th>\n",
       "      <td>4</td>\n",
       "      <td>1</td>\n",
       "      <td>1</td>\n",
       "      <td>Futrelle, Mrs. Jacques Heath (Lily May Peel)</td>\n",
       "      <td>female</td>\n",
       "      <td>35.0</td>\n",
       "      <td>1</td>\n",
       "      <td>0</td>\n",
       "      <td>113803</td>\n",
       "      <td>53.1000</td>\n",
       "      <td>C123</td>\n",
       "      <td>S</td>\n",
       "    </tr>\n",
       "    <tr>\n",
       "      <th>4</th>\n",
       "      <td>5</td>\n",
       "      <td>0</td>\n",
       "      <td>3</td>\n",
       "      <td>Allen, Mr. William Henry</td>\n",
       "      <td>male</td>\n",
       "      <td>35.0</td>\n",
       "      <td>0</td>\n",
       "      <td>0</td>\n",
       "      <td>373450</td>\n",
       "      <td>8.0500</td>\n",
       "      <td>NaN</td>\n",
       "      <td>S</td>\n",
       "    </tr>\n",
       "  </tbody>\n",
       "</table>\n",
       "</div>"
      ],
      "text/plain": [
       "   PassengerId  Survived  Pclass  \\\n",
       "0            1         0       3   \n",
       "1            2         1       1   \n",
       "2            3         1       3   \n",
       "3            4         1       1   \n",
       "4            5         0       3   \n",
       "\n",
       "                                                Name     Sex   Age  SibSp  \\\n",
       "0                            Braund, Mr. Owen Harris    male  22.0      1   \n",
       "1  Cumings, Mrs. John Bradley (Florence Briggs Th...  female  38.0      1   \n",
       "2                             Heikkinen, Miss. Laina  female  26.0      0   \n",
       "3       Futrelle, Mrs. Jacques Heath (Lily May Peel)  female  35.0      1   \n",
       "4                           Allen, Mr. William Henry    male  35.0      0   \n",
       "\n",
       "   Parch            Ticket     Fare Cabin Embarked  \n",
       "0      0         A/5 21171   7.2500   NaN        S  \n",
       "1      0          PC 17599  71.2833   C85        C  \n",
       "2      0  STON/O2. 3101282   7.9250   NaN        S  \n",
       "3      0            113803  53.1000  C123        S  \n",
       "4      0            373450   8.0500   NaN        S  "
      ]
     },
     "execution_count": 26,
     "metadata": {},
     "output_type": "execute_result"
    }
   ],
   "source": [
    "train.head()"
   ]
  },
  {
   "cell_type": "code",
   "execution_count": 27,
   "metadata": {
    "scrolled": true
   },
   "outputs": [
    {
     "data": {
      "text/html": [
       "<div>\n",
       "<style scoped>\n",
       "    .dataframe tbody tr th:only-of-type {\n",
       "        vertical-align: middle;\n",
       "    }\n",
       "\n",
       "    .dataframe tbody tr th {\n",
       "        vertical-align: top;\n",
       "    }\n",
       "\n",
       "    .dataframe thead th {\n",
       "        text-align: right;\n",
       "    }\n",
       "</style>\n",
       "<table border=\"1\" class=\"dataframe\">\n",
       "  <thead>\n",
       "    <tr style=\"text-align: right;\">\n",
       "      <th></th>\n",
       "      <th>PassengerId</th>\n",
       "      <th>Pclass</th>\n",
       "      <th>Name</th>\n",
       "      <th>Sex</th>\n",
       "      <th>Age</th>\n",
       "      <th>SibSp</th>\n",
       "      <th>Parch</th>\n",
       "      <th>Ticket</th>\n",
       "      <th>Fare</th>\n",
       "      <th>Cabin</th>\n",
       "      <th>Embarked</th>\n",
       "    </tr>\n",
       "  </thead>\n",
       "  <tbody>\n",
       "    <tr>\n",
       "      <th>0</th>\n",
       "      <td>892</td>\n",
       "      <td>3</td>\n",
       "      <td>Kelly, Mr. James</td>\n",
       "      <td>male</td>\n",
       "      <td>34.5</td>\n",
       "      <td>0</td>\n",
       "      <td>0</td>\n",
       "      <td>330911</td>\n",
       "      <td>7.8292</td>\n",
       "      <td>NaN</td>\n",
       "      <td>Q</td>\n",
       "    </tr>\n",
       "    <tr>\n",
       "      <th>1</th>\n",
       "      <td>893</td>\n",
       "      <td>3</td>\n",
       "      <td>Wilkes, Mrs. James (Ellen Needs)</td>\n",
       "      <td>female</td>\n",
       "      <td>47.0</td>\n",
       "      <td>1</td>\n",
       "      <td>0</td>\n",
       "      <td>363272</td>\n",
       "      <td>7.0000</td>\n",
       "      <td>NaN</td>\n",
       "      <td>S</td>\n",
       "    </tr>\n",
       "    <tr>\n",
       "      <th>2</th>\n",
       "      <td>894</td>\n",
       "      <td>2</td>\n",
       "      <td>Myles, Mr. Thomas Francis</td>\n",
       "      <td>male</td>\n",
       "      <td>62.0</td>\n",
       "      <td>0</td>\n",
       "      <td>0</td>\n",
       "      <td>240276</td>\n",
       "      <td>9.6875</td>\n",
       "      <td>NaN</td>\n",
       "      <td>Q</td>\n",
       "    </tr>\n",
       "    <tr>\n",
       "      <th>3</th>\n",
       "      <td>895</td>\n",
       "      <td>3</td>\n",
       "      <td>Wirz, Mr. Albert</td>\n",
       "      <td>male</td>\n",
       "      <td>27.0</td>\n",
       "      <td>0</td>\n",
       "      <td>0</td>\n",
       "      <td>315154</td>\n",
       "      <td>8.6625</td>\n",
       "      <td>NaN</td>\n",
       "      <td>S</td>\n",
       "    </tr>\n",
       "    <tr>\n",
       "      <th>4</th>\n",
       "      <td>896</td>\n",
       "      <td>3</td>\n",
       "      <td>Hirvonen, Mrs. Alexander (Helga E Lindqvist)</td>\n",
       "      <td>female</td>\n",
       "      <td>22.0</td>\n",
       "      <td>1</td>\n",
       "      <td>1</td>\n",
       "      <td>3101298</td>\n",
       "      <td>12.2875</td>\n",
       "      <td>NaN</td>\n",
       "      <td>S</td>\n",
       "    </tr>\n",
       "  </tbody>\n",
       "</table>\n",
       "</div>"
      ],
      "text/plain": [
       "   PassengerId  Pclass                                          Name     Sex  \\\n",
       "0          892       3                              Kelly, Mr. James    male   \n",
       "1          893       3              Wilkes, Mrs. James (Ellen Needs)  female   \n",
       "2          894       2                     Myles, Mr. Thomas Francis    male   \n",
       "3          895       3                              Wirz, Mr. Albert    male   \n",
       "4          896       3  Hirvonen, Mrs. Alexander (Helga E Lindqvist)  female   \n",
       "\n",
       "    Age  SibSp  Parch   Ticket     Fare Cabin Embarked  \n",
       "0  34.5      0      0   330911   7.8292   NaN        Q  \n",
       "1  47.0      1      0   363272   7.0000   NaN        S  \n",
       "2  62.0      0      0   240276   9.6875   NaN        Q  \n",
       "3  27.0      0      0   315154   8.6625   NaN        S  \n",
       "4  22.0      1      1  3101298  12.2875   NaN        S  "
      ]
     },
     "execution_count": 27,
     "metadata": {},
     "output_type": "execute_result"
    }
   ],
   "source": [
    "test.head()"
   ]
  },
  {
   "cell_type": "code",
   "execution_count": 28,
   "metadata": {},
   "outputs": [
    {
     "name": "stdout",
     "output_type": "stream",
     "text": [
      "<class 'pandas.core.frame.DataFrame'>\n",
      "RangeIndex: 891 entries, 0 to 890\n",
      "Data columns (total 12 columns):\n",
      " #   Column       Non-Null Count  Dtype  \n",
      "---  ------       --------------  -----  \n",
      " 0   PassengerId  891 non-null    int64  \n",
      " 1   Survived     891 non-null    int64  \n",
      " 2   Pclass       891 non-null    int64  \n",
      " 3   Name         891 non-null    object \n",
      " 4   Sex          891 non-null    object \n",
      " 5   Age          714 non-null    float64\n",
      " 6   SibSp        891 non-null    int64  \n",
      " 7   Parch        891 non-null    int64  \n",
      " 8   Ticket       891 non-null    object \n",
      " 9   Fare         891 non-null    float64\n",
      " 10  Cabin        204 non-null    object \n",
      " 11  Embarked     889 non-null    object \n",
      "dtypes: float64(2), int64(5), object(5)\n",
      "memory usage: 83.7+ KB\n"
     ]
    }
   ],
   "source": [
    "train.info()"
   ]
  },
  {
   "cell_type": "code",
   "execution_count": 29,
   "metadata": {},
   "outputs": [
    {
     "data": {
      "text/plain": [
       "Index(['PassengerId', 'Survived', 'Pclass', 'Name', 'Sex', 'Age', 'SibSp',\n",
       "       'Parch', 'Ticket', 'Fare', 'Cabin', 'Embarked'],\n",
       "      dtype='object')"
      ]
     },
     "execution_count": 29,
     "metadata": {},
     "output_type": "execute_result"
    }
   ],
   "source": [
    "train.columns"
   ]
  },
  {
   "cell_type": "code",
   "execution_count": 30,
   "metadata": {},
   "outputs": [
    {
     "data": {
      "text/plain": [
       "male      577\n",
       "female    314\n",
       "Name: Sex, dtype: int64"
      ]
     },
     "execution_count": 30,
     "metadata": {},
     "output_type": "execute_result"
    }
   ],
   "source": [
    "train.Sex.value_counts(dropna=False)"
   ]
  },
  {
   "cell_type": "code",
   "execution_count": 31,
   "metadata": {},
   "outputs": [
    {
     "data": {
      "text/plain": [
       "<AxesSubplot:xlabel='Fare', ylabel='Sex'>"
      ]
     },
     "execution_count": 31,
     "metadata": {},
     "output_type": "execute_result"
    },
    {
     "data": {
      "image/png": "[encoded data removed]",
      "text/plain": [
       "<Figure size 648x432 with 1 Axes>"
      ]
     },
     "metadata": {
      "image/png": {
       "height": 370,
       "width": 571
      },
      "needs_background": "light"
     },
     "output_type": "display_data"
    }
   ],
   "source": [
    "sns.boxplot(data=train, x='Fare', y='Sex')"
   ]
  },
  {
   "cell_type": "code",
   "execution_count": 32,
   "metadata": {},
   "outputs": [
    {
     "data": {
      "text/plain": [
       "Sex     Pclass\n",
       "female  3         0.458599\n",
       "        1         0.299363\n",
       "        2         0.242038\n",
       "male    3         0.601386\n",
       "        1         0.211438\n",
       "        2         0.187175\n",
       "Name: Pclass, dtype: float64"
      ]
     },
     "execution_count": 32,
     "metadata": {},
     "output_type": "execute_result"
    }
   ],
   "source": [
    "train.groupby('Sex')['Pclass'].value_counts(normalize=True)"
   ]
  },
  {
   "cell_type": "markdown",
   "metadata": {},
   "source": [
    "### Data prepare"
   ]
  },
  {
   "cell_type": "code",
   "execution_count": 33,
   "metadata": {},
   "outputs": [],
   "source": [
    "y_train = train.Survived\n",
    "train.drop('Survived', axis=1, inplace=True)"
   ]
  },
  {
   "cell_type": "code",
   "execution_count": 34,
   "metadata": {},
   "outputs": [
    {
     "data": {
      "text/plain": [
       "array([ True,  True,  True,  True,  True,  True,  True,  True,  True,\n",
       "        True,  True])"
      ]
     },
     "execution_count": 34,
     "metadata": {},
     "output_type": "execute_result"
    }
   ],
   "source": [
    "train.columns == test.columns"
   ]
  },
  {
   "cell_type": "code",
   "execution_count": 35,
   "metadata": {},
   "outputs": [],
   "source": [
    "train['is_test'] = 0\n",
    "test['is_test'] = 1"
   ]
  },
  {
   "cell_type": "code",
   "execution_count": 36,
   "metadata": {},
   "outputs": [],
   "source": [
    "df = pd.concat([train, test])"
   ]
  },
  {
   "cell_type": "code",
   "execution_count": 37,
   "metadata": {},
   "outputs": [],
   "source": [
    "df[\"isMale\"] = df.Sex.replace({\"male\": 1, \"female\":0})\n",
    "df.drop([\"Sex\", \"Cabin\", \"Ticket\", \"Name\", \"PassengerId\"], axis=1, inplace=True)"
   ]
  },
  {
   "cell_type": "code",
   "execution_count": 38,
   "metadata": {},
   "outputs": [
    {
     "data": {
      "text/plain": [
       "3    709\n",
       "1    323\n",
       "2    277\n",
       "Name: Pclass, dtype: int64"
      ]
     },
     "execution_count": 38,
     "metadata": {},
     "output_type": "execute_result"
    }
   ],
   "source": [
    "df.Pclass.value_counts()"
   ]
  },
  {
   "cell_type": "code",
   "execution_count": 39,
   "metadata": {},
   "outputs": [],
   "source": [
    "df_dummies = pd.get_dummies(df, columns=['Pclass', 'Embarked'])"
   ]
  },
  {
   "cell_type": "code",
   "execution_count": 40,
   "metadata": {},
   "outputs": [
    {
     "data": {
      "text/html": [
       "<div>\n",
       "<style scoped>\n",
       "    .dataframe tbody tr th:only-of-type {\n",
       "        vertical-align: middle;\n",
       "    }\n",
       "\n",
       "    .dataframe tbody tr th {\n",
       "        vertical-align: top;\n",
       "    }\n",
       "\n",
       "    .dataframe thead th {\n",
       "        text-align: right;\n",
       "    }\n",
       "</style>\n",
       "<table border=\"1\" class=\"dataframe\">\n",
       "  <thead>\n",
       "    <tr style=\"text-align: right;\">\n",
       "      <th></th>\n",
       "      <th>Age</th>\n",
       "      <th>SibSp</th>\n",
       "      <th>Parch</th>\n",
       "      <th>Fare</th>\n",
       "      <th>is_test</th>\n",
       "      <th>isMale</th>\n",
       "      <th>Pclass_1</th>\n",
       "      <th>Pclass_2</th>\n",
       "      <th>Pclass_3</th>\n",
       "      <th>Embarked_C</th>\n",
       "      <th>Embarked_Q</th>\n",
       "      <th>Embarked_S</th>\n",
       "    </tr>\n",
       "  </thead>\n",
       "  <tbody>\n",
       "    <tr>\n",
       "      <th>0</th>\n",
       "      <td>22.0</td>\n",
       "      <td>1</td>\n",
       "      <td>0</td>\n",
       "      <td>7.2500</td>\n",
       "      <td>0</td>\n",
       "      <td>1</td>\n",
       "      <td>0</td>\n",
       "      <td>0</td>\n",
       "      <td>1</td>\n",
       "      <td>0</td>\n",
       "      <td>0</td>\n",
       "      <td>1</td>\n",
       "    </tr>\n",
       "    <tr>\n",
       "      <th>1</th>\n",
       "      <td>38.0</td>\n",
       "      <td>1</td>\n",
       "      <td>0</td>\n",
       "      <td>71.2833</td>\n",
       "      <td>0</td>\n",
       "      <td>0</td>\n",
       "      <td>1</td>\n",
       "      <td>0</td>\n",
       "      <td>0</td>\n",
       "      <td>1</td>\n",
       "      <td>0</td>\n",
       "      <td>0</td>\n",
       "    </tr>\n",
       "    <tr>\n",
       "      <th>2</th>\n",
       "      <td>26.0</td>\n",
       "      <td>0</td>\n",
       "      <td>0</td>\n",
       "      <td>7.9250</td>\n",
       "      <td>0</td>\n",
       "      <td>0</td>\n",
       "      <td>0</td>\n",
       "      <td>0</td>\n",
       "      <td>1</td>\n",
       "      <td>0</td>\n",
       "      <td>0</td>\n",
       "      <td>1</td>\n",
       "    </tr>\n",
       "    <tr>\n",
       "      <th>3</th>\n",
       "      <td>35.0</td>\n",
       "      <td>1</td>\n",
       "      <td>0</td>\n",
       "      <td>53.1000</td>\n",
       "      <td>0</td>\n",
       "      <td>0</td>\n",
       "      <td>1</td>\n",
       "      <td>0</td>\n",
       "      <td>0</td>\n",
       "      <td>0</td>\n",
       "      <td>0</td>\n",
       "      <td>1</td>\n",
       "    </tr>\n",
       "    <tr>\n",
       "      <th>4</th>\n",
       "      <td>35.0</td>\n",
       "      <td>0</td>\n",
       "      <td>0</td>\n",
       "      <td>8.0500</td>\n",
       "      <td>0</td>\n",
       "      <td>1</td>\n",
       "      <td>0</td>\n",
       "      <td>0</td>\n",
       "      <td>1</td>\n",
       "      <td>0</td>\n",
       "      <td>0</td>\n",
       "      <td>1</td>\n",
       "    </tr>\n",
       "    <tr>\n",
       "      <th>5</th>\n",
       "      <td>NaN</td>\n",
       "      <td>0</td>\n",
       "      <td>0</td>\n",
       "      <td>8.4583</td>\n",
       "      <td>0</td>\n",
       "      <td>1</td>\n",
       "      <td>0</td>\n",
       "      <td>0</td>\n",
       "      <td>1</td>\n",
       "      <td>0</td>\n",
       "      <td>1</td>\n",
       "      <td>0</td>\n",
       "    </tr>\n",
       "    <tr>\n",
       "      <th>6</th>\n",
       "      <td>54.0</td>\n",
       "      <td>0</td>\n",
       "      <td>0</td>\n",
       "      <td>51.8625</td>\n",
       "      <td>0</td>\n",
       "      <td>1</td>\n",
       "      <td>1</td>\n",
       "      <td>0</td>\n",
       "      <td>0</td>\n",
       "      <td>0</td>\n",
       "      <td>0</td>\n",
       "      <td>1</td>\n",
       "    </tr>\n",
       "    <tr>\n",
       "      <th>7</th>\n",
       "      <td>2.0</td>\n",
       "      <td>3</td>\n",
       "      <td>1</td>\n",
       "      <td>21.0750</td>\n",
       "      <td>0</td>\n",
       "      <td>1</td>\n",
       "      <td>0</td>\n",
       "      <td>0</td>\n",
       "      <td>1</td>\n",
       "      <td>0</td>\n",
       "      <td>0</td>\n",
       "      <td>1</td>\n",
       "    </tr>\n",
       "    <tr>\n",
       "      <th>8</th>\n",
       "      <td>27.0</td>\n",
       "      <td>0</td>\n",
       "      <td>2</td>\n",
       "      <td>11.1333</td>\n",
       "      <td>0</td>\n",
       "      <td>0</td>\n",
       "      <td>0</td>\n",
       "      <td>0</td>\n",
       "      <td>1</td>\n",
       "      <td>0</td>\n",
       "      <td>0</td>\n",
       "      <td>1</td>\n",
       "    </tr>\n",
       "    <tr>\n",
       "      <th>9</th>\n",
       "      <td>14.0</td>\n",
       "      <td>1</td>\n",
       "      <td>0</td>\n",
       "      <td>30.0708</td>\n",
       "      <td>0</td>\n",
       "      <td>0</td>\n",
       "      <td>0</td>\n",
       "      <td>1</td>\n",
       "      <td>0</td>\n",
       "      <td>1</td>\n",
       "      <td>0</td>\n",
       "      <td>0</td>\n",
       "    </tr>\n",
       "  </tbody>\n",
       "</table>\n",
       "</div>"
      ],
      "text/plain": [
       "    Age  SibSp  Parch     Fare  is_test  isMale  Pclass_1  Pclass_2  Pclass_3  \\\n",
       "0  22.0      1      0   7.2500        0       1         0         0         1   \n",
       "1  38.0      1      0  71.2833        0       0         1         0         0   \n",
       "2  26.0      0      0   7.9250        0       0         0         0         1   \n",
       "3  35.0      1      0  53.1000        0       0         1         0         0   \n",
       "4  35.0      0      0   8.0500        0       1         0         0         1   \n",
       "5   NaN      0      0   8.4583        0       1         0         0         1   \n",
       "6  54.0      0      0  51.8625        0       1         1         0         0   \n",
       "7   2.0      3      1  21.0750        0       1         0         0         1   \n",
       "8  27.0      0      2  11.1333        0       0         0         0         1   \n",
       "9  14.0      1      0  30.0708        0       0         0         1         0   \n",
       "\n",
       "   Embarked_C  Embarked_Q  Embarked_S  \n",
       "0           0           0           1  \n",
       "1           1           0           0  \n",
       "2           0           0           1  \n",
       "3           0           0           1  \n",
       "4           0           0           1  \n",
       "5           0           1           0  \n",
       "6           0           0           1  \n",
       "7           0           0           1  \n",
       "8           0           0           1  \n",
       "9           1           0           0  "
      ]
     },
     "execution_count": 40,
     "metadata": {},
     "output_type": "execute_result"
    }
   ],
   "source": [
    "df_dummies.head(10)"
   ]
  },
  {
   "cell_type": "code",
   "execution_count": 41,
   "metadata": {},
   "outputs": [
    {
     "data": {
      "text/plain": [
       "Age           263\n",
       "SibSp           0\n",
       "Parch           0\n",
       "Fare            1\n",
       "is_test         0\n",
       "isMale          0\n",
       "Pclass_1        0\n",
       "Pclass_2        0\n",
       "Pclass_3        0\n",
       "Embarked_C      0\n",
       "Embarked_Q      0\n",
       "Embarked_S      0\n",
       "dtype: int64"
      ]
     },
     "execution_count": 41,
     "metadata": {},
     "output_type": "execute_result"
    }
   ],
   "source": [
    "df_dummies.isnull().sum()"
   ]
  },
  {
   "cell_type": "code",
   "execution_count": 42,
   "metadata": {},
   "outputs": [],
   "source": [
    "X_train = df_dummies[df_dummies.is_test==0].drop('is_test', axis=1)\n",
    "X_test = df_dummies[df_dummies.is_test==1].drop('is_test', axis=1)"
   ]
  },
  {
   "cell_type": "code",
   "execution_count": 43,
   "metadata": {},
   "outputs": [],
   "source": [
    "columns = X_train.columns"
   ]
  },
  {
   "cell_type": "code",
   "execution_count": 44,
   "metadata": {},
   "outputs": [
    {
     "data": {
      "text/html": [
       "<div>\n",
       "<style scoped>\n",
       "    .dataframe tbody tr th:only-of-type {\n",
       "        vertical-align: middle;\n",
       "    }\n",
       "\n",
       "    .dataframe tbody tr th {\n",
       "        vertical-align: top;\n",
       "    }\n",
       "\n",
       "    .dataframe thead th {\n",
       "        text-align: right;\n",
       "    }\n",
       "</style>\n",
       "<table border=\"1\" class=\"dataframe\">\n",
       "  <thead>\n",
       "    <tr style=\"text-align: right;\">\n",
       "      <th></th>\n",
       "      <th>Age</th>\n",
       "      <th>SibSp</th>\n",
       "      <th>Parch</th>\n",
       "      <th>Fare</th>\n",
       "      <th>isMale</th>\n",
       "      <th>Pclass_1</th>\n",
       "      <th>Pclass_2</th>\n",
       "      <th>Pclass_3</th>\n",
       "      <th>Embarked_C</th>\n",
       "      <th>Embarked_Q</th>\n",
       "      <th>Embarked_S</th>\n",
       "    </tr>\n",
       "  </thead>\n",
       "  <tbody>\n",
       "    <tr>\n",
       "      <th>0</th>\n",
       "      <td>22.0</td>\n",
       "      <td>1</td>\n",
       "      <td>0</td>\n",
       "      <td>7.2500</td>\n",
       "      <td>1</td>\n",
       "      <td>0</td>\n",
       "      <td>0</td>\n",
       "      <td>1</td>\n",
       "      <td>0</td>\n",
       "      <td>0</td>\n",
       "      <td>1</td>\n",
       "    </tr>\n",
       "    <tr>\n",
       "      <th>1</th>\n",
       "      <td>38.0</td>\n",
       "      <td>1</td>\n",
       "      <td>0</td>\n",
       "      <td>71.2833</td>\n",
       "      <td>0</td>\n",
       "      <td>1</td>\n",
       "      <td>0</td>\n",
       "      <td>0</td>\n",
       "      <td>1</td>\n",
       "      <td>0</td>\n",
       "      <td>0</td>\n",
       "    </tr>\n",
       "    <tr>\n",
       "      <th>2</th>\n",
       "      <td>26.0</td>\n",
       "      <td>0</td>\n",
       "      <td>0</td>\n",
       "      <td>7.9250</td>\n",
       "      <td>0</td>\n",
       "      <td>0</td>\n",
       "      <td>0</td>\n",
       "      <td>1</td>\n",
       "      <td>0</td>\n",
       "      <td>0</td>\n",
       "      <td>1</td>\n",
       "    </tr>\n",
       "    <tr>\n",
       "      <th>3</th>\n",
       "      <td>35.0</td>\n",
       "      <td>1</td>\n",
       "      <td>0</td>\n",
       "      <td>53.1000</td>\n",
       "      <td>0</td>\n",
       "      <td>1</td>\n",
       "      <td>0</td>\n",
       "      <td>0</td>\n",
       "      <td>0</td>\n",
       "      <td>0</td>\n",
       "      <td>1</td>\n",
       "    </tr>\n",
       "    <tr>\n",
       "      <th>4</th>\n",
       "      <td>35.0</td>\n",
       "      <td>0</td>\n",
       "      <td>0</td>\n",
       "      <td>8.0500</td>\n",
       "      <td>1</td>\n",
       "      <td>0</td>\n",
       "      <td>0</td>\n",
       "      <td>1</td>\n",
       "      <td>0</td>\n",
       "      <td>0</td>\n",
       "      <td>1</td>\n",
       "    </tr>\n",
       "    <tr>\n",
       "      <th>5</th>\n",
       "      <td>NaN</td>\n",
       "      <td>0</td>\n",
       "      <td>0</td>\n",
       "      <td>8.4583</td>\n",
       "      <td>1</td>\n",
       "      <td>0</td>\n",
       "      <td>0</td>\n",
       "      <td>1</td>\n",
       "      <td>0</td>\n",
       "      <td>1</td>\n",
       "      <td>0</td>\n",
       "    </tr>\n",
       "    <tr>\n",
       "      <th>6</th>\n",
       "      <td>54.0</td>\n",
       "      <td>0</td>\n",
       "      <td>0</td>\n",
       "      <td>51.8625</td>\n",
       "      <td>1</td>\n",
       "      <td>1</td>\n",
       "      <td>0</td>\n",
       "      <td>0</td>\n",
       "      <td>0</td>\n",
       "      <td>0</td>\n",
       "      <td>1</td>\n",
       "    </tr>\n",
       "    <tr>\n",
       "      <th>7</th>\n",
       "      <td>2.0</td>\n",
       "      <td>3</td>\n",
       "      <td>1</td>\n",
       "      <td>21.0750</td>\n",
       "      <td>1</td>\n",
       "      <td>0</td>\n",
       "      <td>0</td>\n",
       "      <td>1</td>\n",
       "      <td>0</td>\n",
       "      <td>0</td>\n",
       "      <td>1</td>\n",
       "    </tr>\n",
       "    <tr>\n",
       "      <th>8</th>\n",
       "      <td>27.0</td>\n",
       "      <td>0</td>\n",
       "      <td>2</td>\n",
       "      <td>11.1333</td>\n",
       "      <td>0</td>\n",
       "      <td>0</td>\n",
       "      <td>0</td>\n",
       "      <td>1</td>\n",
       "      <td>0</td>\n",
       "      <td>0</td>\n",
       "      <td>1</td>\n",
       "    </tr>\n",
       "    <tr>\n",
       "      <th>9</th>\n",
       "      <td>14.0</td>\n",
       "      <td>1</td>\n",
       "      <td>0</td>\n",
       "      <td>30.0708</td>\n",
       "      <td>0</td>\n",
       "      <td>0</td>\n",
       "      <td>1</td>\n",
       "      <td>0</td>\n",
       "      <td>1</td>\n",
       "      <td>0</td>\n",
       "      <td>0</td>\n",
       "    </tr>\n",
       "  </tbody>\n",
       "</table>\n",
       "</div>"
      ],
      "text/plain": [
       "    Age  SibSp  Parch     Fare  isMale  Pclass_1  Pclass_2  Pclass_3  \\\n",
       "0  22.0      1      0   7.2500       1         0         0         1   \n",
       "1  38.0      1      0  71.2833       0         1         0         0   \n",
       "2  26.0      0      0   7.9250       0         0         0         1   \n",
       "3  35.0      1      0  53.1000       0         1         0         0   \n",
       "4  35.0      0      0   8.0500       1         0         0         1   \n",
       "5   NaN      0      0   8.4583       1         0         0         1   \n",
       "6  54.0      0      0  51.8625       1         1         0         0   \n",
       "7   2.0      3      1  21.0750       1         0         0         1   \n",
       "8  27.0      0      2  11.1333       0         0         0         1   \n",
       "9  14.0      1      0  30.0708       0         0         1         0   \n",
       "\n",
       "   Embarked_C  Embarked_Q  Embarked_S  \n",
       "0           0           0           1  \n",
       "1           1           0           0  \n",
       "2           0           0           1  \n",
       "3           0           0           1  \n",
       "4           0           0           1  \n",
       "5           0           1           0  \n",
       "6           0           0           1  \n",
       "7           0           0           1  \n",
       "8           0           0           1  \n",
       "9           1           0           0  "
      ]
     },
     "execution_count": 44,
     "metadata": {},
     "output_type": "execute_result"
    }
   ],
   "source": [
    "X_train.head(10)"
   ]
  },
  {
   "cell_type": "markdown",
   "metadata": {},
   "source": [
    "### Fill nan"
   ]
  },
  {
   "cell_type": "code",
   "execution_count": 45,
   "metadata": {},
   "outputs": [],
   "source": [
    "from sklearn.impute import SimpleImputer"
   ]
  },
  {
   "cell_type": "code",
   "execution_count": 46,
   "metadata": {},
   "outputs": [],
   "source": [
    "imputer = SimpleImputer(missing_values=np.nan, strategy='mean')"
   ]
  },
  {
   "cell_type": "code",
   "execution_count": 47,
   "metadata": {
    "scrolled": true
   },
   "outputs": [
    {
     "data": {
      "text/plain": [
       "SimpleImputer()"
      ]
     },
     "execution_count": 47,
     "metadata": {},
     "output_type": "execute_result"
    }
   ],
   "source": [
    "imputer.fit(X_train)"
   ]
  },
  {
   "cell_type": "code",
   "execution_count": 48,
   "metadata": {},
   "outputs": [],
   "source": [
    "X_train_imputed = imputer.transform(X_train)\n",
    "X_train_imputed = pd.DataFrame(X_train_imputed, columns=columns)"
   ]
  },
  {
   "cell_type": "code",
   "execution_count": 49,
   "metadata": {},
   "outputs": [
    {
     "data": {
      "text/html": [
       "<div>\n",
       "<style scoped>\n",
       "    .dataframe tbody tr th:only-of-type {\n",
       "        vertical-align: middle;\n",
       "    }\n",
       "\n",
       "    .dataframe tbody tr th {\n",
       "        vertical-align: top;\n",
       "    }\n",
       "\n",
       "    .dataframe thead th {\n",
       "        text-align: right;\n",
       "    }\n",
       "</style>\n",
       "<table border=\"1\" class=\"dataframe\">\n",
       "  <thead>\n",
       "    <tr style=\"text-align: right;\">\n",
       "      <th></th>\n",
       "      <th>Age</th>\n",
       "      <th>SibSp</th>\n",
       "      <th>Parch</th>\n",
       "      <th>Fare</th>\n",
       "      <th>isMale</th>\n",
       "      <th>Pclass_1</th>\n",
       "      <th>Pclass_2</th>\n",
       "      <th>Pclass_3</th>\n",
       "      <th>Embarked_C</th>\n",
       "      <th>Embarked_Q</th>\n",
       "      <th>Embarked_S</th>\n",
       "    </tr>\n",
       "  </thead>\n",
       "  <tbody>\n",
       "    <tr>\n",
       "      <th>0</th>\n",
       "      <td>22.000000</td>\n",
       "      <td>1.0</td>\n",
       "      <td>0.0</td>\n",
       "      <td>7.2500</td>\n",
       "      <td>1.0</td>\n",
       "      <td>0.0</td>\n",
       "      <td>0.0</td>\n",
       "      <td>1.0</td>\n",
       "      <td>0.0</td>\n",
       "      <td>0.0</td>\n",
       "      <td>1.0</td>\n",
       "    </tr>\n",
       "    <tr>\n",
       "      <th>1</th>\n",
       "      <td>38.000000</td>\n",
       "      <td>1.0</td>\n",
       "      <td>0.0</td>\n",
       "      <td>71.2833</td>\n",
       "      <td>0.0</td>\n",
       "      <td>1.0</td>\n",
       "      <td>0.0</td>\n",
       "      <td>0.0</td>\n",
       "      <td>1.0</td>\n",
       "      <td>0.0</td>\n",
       "      <td>0.0</td>\n",
       "    </tr>\n",
       "    <tr>\n",
       "      <th>2</th>\n",
       "      <td>26.000000</td>\n",
       "      <td>0.0</td>\n",
       "      <td>0.0</td>\n",
       "      <td>7.9250</td>\n",
       "      <td>0.0</td>\n",
       "      <td>0.0</td>\n",
       "      <td>0.0</td>\n",
       "      <td>1.0</td>\n",
       "      <td>0.0</td>\n",
       "      <td>0.0</td>\n",
       "      <td>1.0</td>\n",
       "    </tr>\n",
       "    <tr>\n",
       "      <th>3</th>\n",
       "      <td>35.000000</td>\n",
       "      <td>1.0</td>\n",
       "      <td>0.0</td>\n",
       "      <td>53.1000</td>\n",
       "      <td>0.0</td>\n",
       "      <td>1.0</td>\n",
       "      <td>0.0</td>\n",
       "      <td>0.0</td>\n",
       "      <td>0.0</td>\n",
       "      <td>0.0</td>\n",
       "      <td>1.0</td>\n",
       "    </tr>\n",
       "    <tr>\n",
       "      <th>4</th>\n",
       "      <td>35.000000</td>\n",
       "      <td>0.0</td>\n",
       "      <td>0.0</td>\n",
       "      <td>8.0500</td>\n",
       "      <td>1.0</td>\n",
       "      <td>0.0</td>\n",
       "      <td>0.0</td>\n",
       "      <td>1.0</td>\n",
       "      <td>0.0</td>\n",
       "      <td>0.0</td>\n",
       "      <td>1.0</td>\n",
       "    </tr>\n",
       "    <tr>\n",
       "      <th>5</th>\n",
       "      <td>29.699118</td>\n",
       "      <td>0.0</td>\n",
       "      <td>0.0</td>\n",
       "      <td>8.4583</td>\n",
       "      <td>1.0</td>\n",
       "      <td>0.0</td>\n",
       "      <td>0.0</td>\n",
       "      <td>1.0</td>\n",
       "      <td>0.0</td>\n",
       "      <td>1.0</td>\n",
       "      <td>0.0</td>\n",
       "    </tr>\n",
       "    <tr>\n",
       "      <th>6</th>\n",
       "      <td>54.000000</td>\n",
       "      <td>0.0</td>\n",
       "      <td>0.0</td>\n",
       "      <td>51.8625</td>\n",
       "      <td>1.0</td>\n",
       "      <td>1.0</td>\n",
       "      <td>0.0</td>\n",
       "      <td>0.0</td>\n",
       "      <td>0.0</td>\n",
       "      <td>0.0</td>\n",
       "      <td>1.0</td>\n",
       "    </tr>\n",
       "    <tr>\n",
       "      <th>7</th>\n",
       "      <td>2.000000</td>\n",
       "      <td>3.0</td>\n",
       "      <td>1.0</td>\n",
       "      <td>21.0750</td>\n",
       "      <td>1.0</td>\n",
       "      <td>0.0</td>\n",
       "      <td>0.0</td>\n",
       "      <td>1.0</td>\n",
       "      <td>0.0</td>\n",
       "      <td>0.0</td>\n",
       "      <td>1.0</td>\n",
       "    </tr>\n",
       "    <tr>\n",
       "      <th>8</th>\n",
       "      <td>27.000000</td>\n",
       "      <td>0.0</td>\n",
       "      <td>2.0</td>\n",
       "      <td>11.1333</td>\n",
       "      <td>0.0</td>\n",
       "      <td>0.0</td>\n",
       "      <td>0.0</td>\n",
       "      <td>1.0</td>\n",
       "      <td>0.0</td>\n",
       "      <td>0.0</td>\n",
       "      <td>1.0</td>\n",
       "    </tr>\n",
       "    <tr>\n",
       "      <th>9</th>\n",
       "      <td>14.000000</td>\n",
       "      <td>1.0</td>\n",
       "      <td>0.0</td>\n",
       "      <td>30.0708</td>\n",
       "      <td>0.0</td>\n",
       "      <td>0.0</td>\n",
       "      <td>1.0</td>\n",
       "      <td>0.0</td>\n",
       "      <td>1.0</td>\n",
       "      <td>0.0</td>\n",
       "      <td>0.0</td>\n",
       "    </tr>\n",
       "  </tbody>\n",
       "</table>\n",
       "</div>"
      ],
      "text/plain": [
       "         Age  SibSp  Parch     Fare  isMale  Pclass_1  Pclass_2  Pclass_3  \\\n",
       "0  22.000000    1.0    0.0   7.2500     1.0       0.0       0.0       1.0   \n",
       "1  38.000000    1.0    0.0  71.2833     0.0       1.0       0.0       0.0   \n",
       "2  26.000000    0.0    0.0   7.9250     0.0       0.0       0.0       1.0   \n",
       "3  35.000000    1.0    0.0  53.1000     0.0       1.0       0.0       0.0   \n",
       "4  35.000000    0.0    0.0   8.0500     1.0       0.0       0.0       1.0   \n",
       "5  29.699118    0.0    0.0   8.4583     1.0       0.0       0.0       1.0   \n",
       "6  54.000000    0.0    0.0  51.8625     1.0       1.0       0.0       0.0   \n",
       "7   2.000000    3.0    1.0  21.0750     1.0       0.0       0.0       1.0   \n",
       "8  27.000000    0.0    2.0  11.1333     0.0       0.0       0.0       1.0   \n",
       "9  14.000000    1.0    0.0  30.0708     0.0       0.0       1.0       0.0   \n",
       "\n",
       "   Embarked_C  Embarked_Q  Embarked_S  \n",
       "0         0.0         0.0         1.0  \n",
       "1         1.0         0.0         0.0  \n",
       "2         0.0         0.0         1.0  \n",
       "3         0.0         0.0         1.0  \n",
       "4         0.0         0.0         1.0  \n",
       "5         0.0         1.0         0.0  \n",
       "6         0.0         0.0         1.0  \n",
       "7         0.0         0.0         1.0  \n",
       "8         0.0         0.0         1.0  \n",
       "9         1.0         0.0         0.0  "
      ]
     },
     "execution_count": 49,
     "metadata": {},
     "output_type": "execute_result"
    }
   ],
   "source": [
    "X_train_imputed.head(10)"
   ]
  },
  {
   "cell_type": "markdown",
   "metadata": {},
   "source": [
    "### Standartization"
   ]
  },
  {
   "cell_type": "code",
   "execution_count": 50,
   "metadata": {},
   "outputs": [],
   "source": [
    "from sklearn.preprocessing import StandardScaler"
   ]
  },
  {
   "cell_type": "code",
   "execution_count": 51,
   "metadata": {},
   "outputs": [],
   "source": [
    "scaler = StandardScaler()"
   ]
  },
  {
   "cell_type": "code",
   "execution_count": 52,
   "metadata": {},
   "outputs": [
    {
     "data": {
      "text/plain": [
       "StandardScaler()"
      ]
     },
     "execution_count": 52,
     "metadata": {},
     "output_type": "execute_result"
    }
   ],
   "source": [
    "scaler.fit(X_train_imputed)"
   ]
  },
  {
   "cell_type": "code",
   "execution_count": 53,
   "metadata": {},
   "outputs": [],
   "source": [
    "X_train_imputed_scaled = scaler.transform(X_train_imputed)\n",
    "X_train_imputed_scaled = pd.DataFrame(X_train_imputed_scaled, columns=columns)"
   ]
  },
  {
   "cell_type": "code",
   "execution_count": 54,
   "metadata": {},
   "outputs": [
    {
     "data": {
      "text/html": [
       "<div>\n",
       "<style scoped>\n",
       "    .dataframe tbody tr th:only-of-type {\n",
       "        vertical-align: middle;\n",
       "    }\n",
       "\n",
       "    .dataframe tbody tr th {\n",
       "        vertical-align: top;\n",
       "    }\n",
       "\n",
       "    .dataframe thead th {\n",
       "        text-align: right;\n",
       "    }\n",
       "</style>\n",
       "<table border=\"1\" class=\"dataframe\">\n",
       "  <thead>\n",
       "    <tr style=\"text-align: right;\">\n",
       "      <th></th>\n",
       "      <th>Age</th>\n",
       "      <th>SibSp</th>\n",
       "      <th>Parch</th>\n",
       "      <th>Fare</th>\n",
       "      <th>isMale</th>\n",
       "      <th>Pclass_1</th>\n",
       "      <th>Pclass_2</th>\n",
       "      <th>Pclass_3</th>\n",
       "      <th>Embarked_C</th>\n",
       "      <th>Embarked_Q</th>\n",
       "      <th>Embarked_S</th>\n",
       "    </tr>\n",
       "  </thead>\n",
       "  <tbody>\n",
       "    <tr>\n",
       "      <th>0</th>\n",
       "      <td>-0.592481</td>\n",
       "      <td>0.432793</td>\n",
       "      <td>-0.473674</td>\n",
       "      <td>-0.502445</td>\n",
       "      <td>0.737695</td>\n",
       "      <td>-0.565685</td>\n",
       "      <td>-0.510152</td>\n",
       "      <td>0.902587</td>\n",
       "      <td>-0.482043</td>\n",
       "      <td>-0.307562</td>\n",
       "      <td>0.619306</td>\n",
       "    </tr>\n",
       "    <tr>\n",
       "      <th>1</th>\n",
       "      <td>0.638789</td>\n",
       "      <td>0.432793</td>\n",
       "      <td>-0.473674</td>\n",
       "      <td>0.786845</td>\n",
       "      <td>-1.355574</td>\n",
       "      <td>1.767767</td>\n",
       "      <td>-0.510152</td>\n",
       "      <td>-1.107926</td>\n",
       "      <td>2.074505</td>\n",
       "      <td>-0.307562</td>\n",
       "      <td>-1.614710</td>\n",
       "    </tr>\n",
       "    <tr>\n",
       "      <th>2</th>\n",
       "      <td>-0.284663</td>\n",
       "      <td>-0.474545</td>\n",
       "      <td>-0.473674</td>\n",
       "      <td>-0.488854</td>\n",
       "      <td>-1.355574</td>\n",
       "      <td>-0.565685</td>\n",
       "      <td>-0.510152</td>\n",
       "      <td>0.902587</td>\n",
       "      <td>-0.482043</td>\n",
       "      <td>-0.307562</td>\n",
       "      <td>0.619306</td>\n",
       "    </tr>\n",
       "    <tr>\n",
       "      <th>3</th>\n",
       "      <td>0.407926</td>\n",
       "      <td>0.432793</td>\n",
       "      <td>-0.473674</td>\n",
       "      <td>0.420730</td>\n",
       "      <td>-1.355574</td>\n",
       "      <td>1.767767</td>\n",
       "      <td>-0.510152</td>\n",
       "      <td>-1.107926</td>\n",
       "      <td>-0.482043</td>\n",
       "      <td>-0.307562</td>\n",
       "      <td>0.619306</td>\n",
       "    </tr>\n",
       "    <tr>\n",
       "      <th>4</th>\n",
       "      <td>0.407926</td>\n",
       "      <td>-0.474545</td>\n",
       "      <td>-0.473674</td>\n",
       "      <td>-0.486337</td>\n",
       "      <td>0.737695</td>\n",
       "      <td>-0.565685</td>\n",
       "      <td>-0.510152</td>\n",
       "      <td>0.902587</td>\n",
       "      <td>-0.482043</td>\n",
       "      <td>-0.307562</td>\n",
       "      <td>0.619306</td>\n",
       "    </tr>\n",
       "    <tr>\n",
       "      <th>5</th>\n",
       "      <td>0.000000</td>\n",
       "      <td>-0.474545</td>\n",
       "      <td>-0.473674</td>\n",
       "      <td>-0.478116</td>\n",
       "      <td>0.737695</td>\n",
       "      <td>-0.565685</td>\n",
       "      <td>-0.510152</td>\n",
       "      <td>0.902587</td>\n",
       "      <td>-0.482043</td>\n",
       "      <td>3.251373</td>\n",
       "      <td>-1.614710</td>\n",
       "    </tr>\n",
       "    <tr>\n",
       "      <th>6</th>\n",
       "      <td>1.870059</td>\n",
       "      <td>-0.474545</td>\n",
       "      <td>-0.473674</td>\n",
       "      <td>0.395814</td>\n",
       "      <td>0.737695</td>\n",
       "      <td>1.767767</td>\n",
       "      <td>-0.510152</td>\n",
       "      <td>-1.107926</td>\n",
       "      <td>-0.482043</td>\n",
       "      <td>-0.307562</td>\n",
       "      <td>0.619306</td>\n",
       "    </tr>\n",
       "    <tr>\n",
       "      <th>7</th>\n",
       "      <td>-2.131568</td>\n",
       "      <td>2.247470</td>\n",
       "      <td>0.767630</td>\n",
       "      <td>-0.224083</td>\n",
       "      <td>0.737695</td>\n",
       "      <td>-0.565685</td>\n",
       "      <td>-0.510152</td>\n",
       "      <td>0.902587</td>\n",
       "      <td>-0.482043</td>\n",
       "      <td>-0.307562</td>\n",
       "      <td>0.619306</td>\n",
       "    </tr>\n",
       "    <tr>\n",
       "      <th>8</th>\n",
       "      <td>-0.207709</td>\n",
       "      <td>-0.474545</td>\n",
       "      <td>2.008933</td>\n",
       "      <td>-0.424256</td>\n",
       "      <td>-1.355574</td>\n",
       "      <td>-0.565685</td>\n",
       "      <td>-0.510152</td>\n",
       "      <td>0.902587</td>\n",
       "      <td>-0.482043</td>\n",
       "      <td>-0.307562</td>\n",
       "      <td>0.619306</td>\n",
       "    </tr>\n",
       "    <tr>\n",
       "      <th>9</th>\n",
       "      <td>-1.208115</td>\n",
       "      <td>0.432793</td>\n",
       "      <td>-0.473674</td>\n",
       "      <td>-0.042956</td>\n",
       "      <td>-1.355574</td>\n",
       "      <td>-0.565685</td>\n",
       "      <td>1.960202</td>\n",
       "      <td>-1.107926</td>\n",
       "      <td>2.074505</td>\n",
       "      <td>-0.307562</td>\n",
       "      <td>-1.614710</td>\n",
       "    </tr>\n",
       "  </tbody>\n",
       "</table>\n",
       "</div>"
      ],
      "text/plain": [
       "        Age     SibSp     Parch      Fare    isMale  Pclass_1  Pclass_2  \\\n",
       "0 -0.592481  0.432793 -0.473674 -0.502445  0.737695 -0.565685 -0.510152   \n",
       "1  0.638789  0.432793 -0.473674  0.786845 -1.355574  1.767767 -0.510152   \n",
       "2 -0.284663 -0.474545 -0.473674 -0.488854 -1.355574 -0.565685 -0.510152   \n",
       "3  0.407926  0.432793 -0.473674  0.420730 -1.355574  1.767767 -0.510152   \n",
       "4  0.407926 -0.474545 -0.473674 -0.486337  0.737695 -0.565685 -0.510152   \n",
       "5  0.000000 -0.474545 -0.473674 -0.478116  0.737695 -0.565685 -0.510152   \n",
       "6  1.870059 -0.474545 -0.473674  0.395814  0.737695  1.767767 -0.510152   \n",
       "7 -2.131568  2.247470  0.767630 -0.224083  0.737695 -0.565685 -0.510152   \n",
       "8 -0.207709 -0.474545  2.008933 -0.424256 -1.355574 -0.565685 -0.510152   \n",
       "9 -1.208115  0.432793 -0.473674 -0.042956 -1.355574 -0.565685  1.960202   \n",
       "\n",
       "   Pclass_3  Embarked_C  Embarked_Q  Embarked_S  \n",
       "0  0.902587   -0.482043   -0.307562    0.619306  \n",
       "1 -1.107926    2.074505   -0.307562   -1.614710  \n",
       "2  0.902587   -0.482043   -0.307562    0.619306  \n",
       "3 -1.107926   -0.482043   -0.307562    0.619306  \n",
       "4  0.902587   -0.482043   -0.307562    0.619306  \n",
       "5  0.902587   -0.482043    3.251373   -1.614710  \n",
       "6 -1.107926   -0.482043   -0.307562    0.619306  \n",
       "7  0.902587   -0.482043   -0.307562    0.619306  \n",
       "8  0.902587   -0.482043   -0.307562    0.619306  \n",
       "9 -1.107926    2.074505   -0.307562   -1.614710  "
      ]
     },
     "execution_count": 54,
     "metadata": {},
     "output_type": "execute_result"
    }
   ],
   "source": [
    "X_train_imputed_scaled.head(10)"
   ]
  },
  {
   "cell_type": "code",
   "execution_count": 55,
   "metadata": {},
   "outputs": [],
   "source": [
    "X_test_imputed_scaled = scaler.transform(imputer.transform(X_test))"
   ]
  },
  {
   "cell_type": "markdown",
   "metadata": {},
   "source": [
    "### Train and test data sampling from test"
   ]
  },
  {
   "cell_type": "code",
   "execution_count": 56,
   "metadata": {},
   "outputs": [],
   "source": [
    "from sklearn.model_selection import train_test_split"
   ]
  },
  {
   "cell_type": "code",
   "execution_count": 57,
   "metadata": {},
   "outputs": [],
   "source": [
    "X_train_fin, X_val, y_train_fin, y_val = train_test_split(X_train_imputed_scaled, y_train, test_size=0.2)"
   ]
  },
  {
   "cell_type": "code",
   "execution_count": 58,
   "metadata": {},
   "outputs": [
    {
     "data": {
      "text/plain": [
       "(712, 11)"
      ]
     },
     "execution_count": 58,
     "metadata": {},
     "output_type": "execute_result"
    }
   ],
   "source": [
    "X_train_fin.shape"
   ]
  },
  {
   "cell_type": "code",
   "execution_count": 59,
   "metadata": {
    "scrolled": true
   },
   "outputs": [
    {
     "data": {
      "text/plain": [
       "(179, 11)"
      ]
     },
     "execution_count": 59,
     "metadata": {},
     "output_type": "execute_result"
    }
   ],
   "source": [
    "X_val.shape"
   ]
  },
  {
   "cell_type": "code",
   "execution_count": 60,
   "metadata": {},
   "outputs": [
    {
     "data": {
      "text/plain": [
       "(418, 11)"
      ]
     },
     "execution_count": 60,
     "metadata": {},
     "output_type": "execute_result"
    }
   ],
   "source": [
    "X_test_imputed_scaled.shape"
   ]
  },
  {
   "cell_type": "code",
   "execution_count": 61,
   "metadata": {},
   "outputs": [
    {
     "data": {
      "text/plain": [
       "(712,)"
      ]
     },
     "execution_count": 61,
     "metadata": {},
     "output_type": "execute_result"
    }
   ],
   "source": [
    "y_train_fin.shape"
   ]
  },
  {
   "cell_type": "code",
   "execution_count": 62,
   "metadata": {},
   "outputs": [
    {
     "data": {
      "text/plain": [
       "(179,)"
      ]
     },
     "execution_count": 62,
     "metadata": {},
     "output_type": "execute_result"
    }
   ],
   "source": [
    "y_val.shape"
   ]
  },
  {
   "cell_type": "markdown",
   "metadata": {},
   "source": [
    "### Decision tree"
   ]
  },
  {
   "cell_type": "code",
   "execution_count": 63,
   "metadata": {
    "scrolled": true
   },
   "outputs": [
    {
     "data": {
      "text/plain": [
       "Survived    0\n",
       "dtype: int64"
      ]
     },
     "execution_count": 63,
     "metadata": {},
     "output_type": "execute_result"
    }
   ],
   "source": [
    "y_train_fin.to_frame().min()"
   ]
  },
  {
   "cell_type": "code",
   "execution_count": 64,
   "metadata": {},
   "outputs": [
    {
     "data": {
      "text/html": [
       "<div>\n",
       "<style scoped>\n",
       "    .dataframe tbody tr th:only-of-type {\n",
       "        vertical-align: middle;\n",
       "    }\n",
       "\n",
       "    .dataframe tbody tr th {\n",
       "        vertical-align: top;\n",
       "    }\n",
       "\n",
       "    .dataframe thead th {\n",
       "        text-align: right;\n",
       "    }\n",
       "</style>\n",
       "<table border=\"1\" class=\"dataframe\">\n",
       "  <thead>\n",
       "    <tr style=\"text-align: right;\">\n",
       "      <th></th>\n",
       "      <th>Age</th>\n",
       "      <th>SibSp</th>\n",
       "      <th>Parch</th>\n",
       "      <th>Fare</th>\n",
       "      <th>isMale</th>\n",
       "      <th>Pclass_1</th>\n",
       "      <th>Pclass_2</th>\n",
       "      <th>Pclass_3</th>\n",
       "      <th>Embarked_C</th>\n",
       "      <th>Embarked_Q</th>\n",
       "      <th>Embarked_S</th>\n",
       "    </tr>\n",
       "  </thead>\n",
       "  <tbody>\n",
       "    <tr>\n",
       "      <th>119</th>\n",
       "      <td>-2.131568</td>\n",
       "      <td>3.154809</td>\n",
       "      <td>2.008933</td>\n",
       "      <td>-0.018709</td>\n",
       "      <td>-1.355574</td>\n",
       "      <td>-0.565685</td>\n",
       "      <td>-0.510152</td>\n",
       "      <td>0.902587</td>\n",
       "      <td>-0.482043</td>\n",
       "      <td>-0.307562</td>\n",
       "      <td>0.619306</td>\n",
       "    </tr>\n",
       "    <tr>\n",
       "      <th>101</th>\n",
       "      <td>0.000000</td>\n",
       "      <td>-0.474545</td>\n",
       "      <td>-0.473674</td>\n",
       "      <td>-0.489442</td>\n",
       "      <td>0.737695</td>\n",
       "      <td>-0.565685</td>\n",
       "      <td>-0.510152</td>\n",
       "      <td>0.902587</td>\n",
       "      <td>-0.482043</td>\n",
       "      <td>-0.307562</td>\n",
       "      <td>0.619306</td>\n",
       "    </tr>\n",
       "    <tr>\n",
       "      <th>704</th>\n",
       "      <td>-0.284663</td>\n",
       "      <td>0.432793</td>\n",
       "      <td>-0.473674</td>\n",
       "      <td>-0.490280</td>\n",
       "      <td>0.737695</td>\n",
       "      <td>-0.565685</td>\n",
       "      <td>-0.510152</td>\n",
       "      <td>0.902587</td>\n",
       "      <td>-0.482043</td>\n",
       "      <td>-0.307562</td>\n",
       "      <td>0.619306</td>\n",
       "    </tr>\n",
       "    <tr>\n",
       "      <th>11</th>\n",
       "      <td>2.177876</td>\n",
       "      <td>-0.474545</td>\n",
       "      <td>-0.473674</td>\n",
       "      <td>-0.113846</td>\n",
       "      <td>-1.355574</td>\n",
       "      <td>1.767767</td>\n",
       "      <td>-0.510152</td>\n",
       "      <td>-1.107926</td>\n",
       "      <td>-0.482043</td>\n",
       "      <td>-0.307562</td>\n",
       "      <td>0.619306</td>\n",
       "    </tr>\n",
       "    <tr>\n",
       "      <th>354</th>\n",
       "      <td>0.000000</td>\n",
       "      <td>-0.474545</td>\n",
       "      <td>-0.473674</td>\n",
       "      <td>-0.502949</td>\n",
       "      <td>0.737695</td>\n",
       "      <td>-0.565685</td>\n",
       "      <td>-0.510152</td>\n",
       "      <td>0.902587</td>\n",
       "      <td>2.074505</td>\n",
       "      <td>-0.307562</td>\n",
       "      <td>-1.614710</td>\n",
       "    </tr>\n",
       "    <tr>\n",
       "      <th>...</th>\n",
       "      <td>...</td>\n",
       "      <td>...</td>\n",
       "      <td>...</td>\n",
       "      <td>...</td>\n",
       "      <td>...</td>\n",
       "      <td>...</td>\n",
       "      <td>...</td>\n",
       "      <td>...</td>\n",
       "      <td>...</td>\n",
       "      <td>...</td>\n",
       "      <td>...</td>\n",
       "    </tr>\n",
       "    <tr>\n",
       "      <th>749</th>\n",
       "      <td>0.100109</td>\n",
       "      <td>-0.474545</td>\n",
       "      <td>-0.473674</td>\n",
       "      <td>-0.492378</td>\n",
       "      <td>0.737695</td>\n",
       "      <td>-0.565685</td>\n",
       "      <td>-0.510152</td>\n",
       "      <td>0.902587</td>\n",
       "      <td>-0.482043</td>\n",
       "      <td>3.251373</td>\n",
       "      <td>-1.614710</td>\n",
       "    </tr>\n",
       "    <tr>\n",
       "      <th>246</th>\n",
       "      <td>-0.361618</td>\n",
       "      <td>-0.474545</td>\n",
       "      <td>-0.473674</td>\n",
       "      <td>-0.491874</td>\n",
       "      <td>-1.355574</td>\n",
       "      <td>-0.565685</td>\n",
       "      <td>-0.510152</td>\n",
       "      <td>0.902587</td>\n",
       "      <td>-0.482043</td>\n",
       "      <td>-0.307562</td>\n",
       "      <td>0.619306</td>\n",
       "    </tr>\n",
       "    <tr>\n",
       "      <th>371</th>\n",
       "      <td>-0.900298</td>\n",
       "      <td>0.432793</td>\n",
       "      <td>-0.473674</td>\n",
       "      <td>-0.517631</td>\n",
       "      <td>0.737695</td>\n",
       "      <td>-0.565685</td>\n",
       "      <td>-0.510152</td>\n",
       "      <td>0.902587</td>\n",
       "      <td>-0.482043</td>\n",
       "      <td>-0.307562</td>\n",
       "      <td>0.619306</td>\n",
       "    </tr>\n",
       "    <tr>\n",
       "      <th>699</th>\n",
       "      <td>0.946606</td>\n",
       "      <td>-0.474545</td>\n",
       "      <td>-0.473674</td>\n",
       "      <td>-0.494391</td>\n",
       "      <td>0.737695</td>\n",
       "      <td>-0.565685</td>\n",
       "      <td>-0.510152</td>\n",
       "      <td>0.902587</td>\n",
       "      <td>-0.482043</td>\n",
       "      <td>-0.307562</td>\n",
       "      <td>0.619306</td>\n",
       "    </tr>\n",
       "    <tr>\n",
       "      <th>619</th>\n",
       "      <td>-0.284663</td>\n",
       "      <td>-0.474545</td>\n",
       "      <td>-0.473674</td>\n",
       "      <td>-0.437007</td>\n",
       "      <td>0.737695</td>\n",
       "      <td>-0.565685</td>\n",
       "      <td>1.960202</td>\n",
       "      <td>-1.107926</td>\n",
       "      <td>-0.482043</td>\n",
       "      <td>-0.307562</td>\n",
       "      <td>0.619306</td>\n",
       "    </tr>\n",
       "  </tbody>\n",
       "</table>\n",
       "<p>712 rows × 11 columns</p>\n",
       "</div>"
      ],
      "text/plain": [
       "          Age     SibSp     Parch      Fare    isMale  Pclass_1  Pclass_2  \\\n",
       "119 -2.131568  3.154809  2.008933 -0.018709 -1.355574 -0.565685 -0.510152   \n",
       "101  0.000000 -0.474545 -0.473674 -0.489442  0.737695 -0.565685 -0.510152   \n",
       "704 -0.284663  0.432793 -0.473674 -0.490280  0.737695 -0.565685 -0.510152   \n",
       "11   2.177876 -0.474545 -0.473674 -0.113846 -1.355574  1.767767 -0.510152   \n",
       "354  0.000000 -0.474545 -0.473674 -0.502949  0.737695 -0.565685 -0.510152   \n",
       "..        ...       ...       ...       ...       ...       ...       ...   \n",
       "749  0.100109 -0.474545 -0.473674 -0.492378  0.737695 -0.565685 -0.510152   \n",
       "246 -0.361618 -0.474545 -0.473674 -0.491874 -1.355574 -0.565685 -0.510152   \n",
       "371 -0.900298  0.432793 -0.473674 -0.517631  0.737695 -0.565685 -0.510152   \n",
       "699  0.946606 -0.474545 -0.473674 -0.494391  0.737695 -0.565685 -0.510152   \n",
       "619 -0.284663 -0.474545 -0.473674 -0.437007  0.737695 -0.565685  1.960202   \n",
       "\n",
       "     Pclass_3  Embarked_C  Embarked_Q  Embarked_S  \n",
       "119  0.902587   -0.482043   -0.307562    0.619306  \n",
       "101  0.902587   -0.482043   -0.307562    0.619306  \n",
       "704  0.902587   -0.482043   -0.307562    0.619306  \n",
       "11  -1.107926   -0.482043   -0.307562    0.619306  \n",
       "354  0.902587    2.074505   -0.307562   -1.614710  \n",
       "..        ...         ...         ...         ...  \n",
       "749  0.902587   -0.482043    3.251373   -1.614710  \n",
       "246  0.902587   -0.482043   -0.307562    0.619306  \n",
       "371  0.902587   -0.482043   -0.307562    0.619306  \n",
       "699  0.902587   -0.482043   -0.307562    0.619306  \n",
       "619 -1.107926   -0.482043   -0.307562    0.619306  \n",
       "\n",
       "[712 rows x 11 columns]"
      ]
     },
     "execution_count": 64,
     "metadata": {},
     "output_type": "execute_result"
    }
   ],
   "source": [
    "X_train_fin"
   ]
  },
  {
   "cell_type": "code",
   "execution_count": 65,
   "metadata": {},
   "outputs": [],
   "source": [
    "from sklearn.tree import DecisionTreeClassifier"
   ]
  },
  {
   "cell_type": "code",
   "execution_count": 66,
   "metadata": {},
   "outputs": [],
   "source": [
    "trclf = DecisionTreeClassifier()"
   ]
  },
  {
   "cell_type": "code",
   "execution_count": 67,
   "metadata": {},
   "outputs": [
    {
     "data": {
      "text/plain": [
       "DecisionTreeClassifier()"
      ]
     },
     "execution_count": 67,
     "metadata": {},
     "output_type": "execute_result"
    }
   ],
   "source": [
    "trclf.fit(X_train_fin, y_train_fin)"
   ]
  },
  {
   "cell_type": "code",
   "execution_count": 68,
   "metadata": {},
   "outputs": [
    {
     "data": {
      "text/plain": [
       "array([0, 0, 1, 0, 1, 1, 1, 0, 1, 0, 0, 0, 1, 0, 1, 0, 1, 1, 0, 1, 1, 0,\n",
       "       1, 1, 1, 1, 0, 0, 0, 0, 1, 0, 1, 0, 0, 0, 0, 0, 0, 0, 0, 1, 0, 0,\n",
       "       0, 0, 1, 0, 0, 0, 0, 0, 1, 0, 0, 1, 1, 0, 1, 1, 1, 0, 0, 0, 1, 1,\n",
       "       1, 0, 0, 0, 0, 0, 0, 0, 0, 0, 0, 0, 0, 0, 0, 1, 0, 0, 0, 1, 1, 0,\n",
       "       0, 0, 1, 1, 1, 1, 1, 0, 0, 1, 1, 0, 0, 0, 1, 0, 0, 0, 1, 1, 0, 1,\n",
       "       0, 1, 0, 0, 1, 1, 0, 0, 1, 1, 1, 1, 0, 1, 1, 0, 0, 0, 1, 0, 0, 0,\n",
       "       1, 0, 1, 0, 1, 0, 0, 1, 0, 1, 0, 0, 0, 0, 0, 1, 0, 0, 0, 1, 1, 1,\n",
       "       0, 0, 0, 0, 0, 0, 0, 0, 0, 0, 0, 1, 1, 0, 0, 1, 1, 0, 1, 0, 0, 1,\n",
       "       0, 0, 0])"
      ]
     },
     "execution_count": 68,
     "metadata": {},
     "output_type": "execute_result"
    }
   ],
   "source": [
    "trclf.predict(X_val)"
   ]
  },
  {
   "cell_type": "code",
   "execution_count": 69,
   "metadata": {},
   "outputs": [],
   "source": [
    "from sklearn.tree import export_graphviz\n",
    "\n",
    "def get_tree_dot_view(trclf, feature_names=None, class_names=None):\n",
    "    print(export_graphviz(trclf, out_file=None, filled=True, feature_names=feature_names, class_names=class_names))"
   ]
  },
  {
   "cell_type": "code",
   "execution_count": 70,
   "metadata": {},
   "outputs": [
    {
     "data": {
      "text/plain": [
       "119    0\n",
       "101    0\n",
       "704    0\n",
       "11     1\n",
       "354    0\n",
       "      ..\n",
       "749    0\n",
       "246    0\n",
       "371    0\n",
       "699    0\n",
       "619    0\n",
       "Name: Survived, Length: 712, dtype: int64"
      ]
     },
     "execution_count": 70,
     "metadata": {},
     "output_type": "execute_result"
    }
   ],
   "source": [
    "y_train_fin"
   ]
  },
  {
   "cell_type": "code",
   "execution_count": 71,
   "metadata": {},
   "outputs": [
    {
     "data": {
      "text/plain": [
       "'119    0\\n101    0\\n704    0\\n11     1\\n354    0\\n      ..\\n749    0\\n246    0\\n371    0\\n699    0\\n619    0\\nName: Survived, Length: 712, dtype: int64'"
      ]
     },
     "execution_count": 71,
     "metadata": {},
     "output_type": "execute_result"
    }
   ],
   "source": [
    "str(y_train_fin)"
   ]
  },
  {
   "cell_type": "code",
   "execution_count": 72,
   "metadata": {},
   "outputs": [
    {
     "name": "stdout",
     "output_type": "stream",
     "text": [
      "digraph Tree {\n",
      "node [shape=box, style=\"filled\", color=\"black\"] ;\n",
      "0 [label=\"isMale <= -0.309\\ngini = 0.479\\nsamples = 712\\nvalue = [429, 283]\\nclass = 0\", fillcolor=\"#f6d4bc\"] ;\n",
      "1 [label=\"Pclass_3 <= -0.103\\ngini = 0.389\\nsamples = 261\\nvalue = [69, 192]\\nclass = 1\", fillcolor=\"#80c0ee\"] ;\n",
      "0 -> 1 [labeldistance=2.5, labelangle=45, headlabel=\"True\"] ;\n",
      "2 [label=\"Fare <= -0.067\\ngini = 0.092\\nsamples = 145\\nvalue = [7, 138]\\nclass = 1\", fillcolor=\"#43a2e6\"] ;\n",
      "1 -> 2 ;\n",
      "3 [label=\"Fare <= -0.08\\ngini = 0.175\\nsamples = 62\\nvalue = [6, 56]\\nclass = 1\", fillcolor=\"#4ea8e8\"] ;\n",
      "2 -> 3 ;\n",
      "4 [label=\"Age <= 2.024\\ngini = 0.15\\nsamples = 61\\nvalue = [5, 56]\\nclass = 1\", fillcolor=\"#4ba6e7\"] ;\n",
      "3 -> 4 ;\n",
      "5 [label=\"SibSp <= -0.021\\ngini = 0.126\\nsamples = 59\\nvalue = [4, 55]\\nclass = 1\", fillcolor=\"#47a4e7\"] ;\n",
      "4 -> 5 ;\n",
      "6 [label=\"Age <= 0.562\\ngini = 0.053\\nsamples = 37\\nvalue = [1, 36]\\nclass = 1\", fillcolor=\"#3ea0e6\"] ;\n",
      "5 -> 6 ;\n",
      "7 [label=\"gini = 0.0\\nsamples = 26\\nvalue = [0, 26]\\nclass = 1\", fillcolor=\"#399de5\"] ;\n",
      "6 -> 7 ;\n",
      "8 [label=\"Age <= 0.716\\ngini = 0.165\\nsamples = 11\\nvalue = [1, 10]\\nclass = 1\", fillcolor=\"#4da7e8\"] ;\n",
      "6 -> 8 ;\n",
      "9 [label=\"gini = 0.0\\nsamples = 1\\nvalue = [1, 0]\\nclass = 0\", fillcolor=\"#e58139\"] ;\n",
      "8 -> 9 ;\n",
      "10 [label=\"gini = 0.0\\nsamples = 10\\nvalue = [0, 10]\\nclass = 1\", fillcolor=\"#399de5\"] ;\n",
      "8 -> 10 ;\n",
      "11 [label=\"Age <= -0.362\\ngini = 0.236\\nsamples = 22\\nvalue = [3, 19]\\nclass = 1\", fillcolor=\"#58ace9\"] ;\n",
      "5 -> 11 ;\n",
      "12 [label=\"gini = 0.0\\nsamples = 7\\nvalue = [0, 7]\\nclass = 1\", fillcolor=\"#399de5\"] ;\n",
      "11 -> 12 ;\n",
      "13 [label=\"Age <= -0.169\\ngini = 0.32\\nsamples = 15\\nvalue = [3, 12]\\nclass = 1\", fillcolor=\"#6ab6ec\"] ;\n",
      "11 -> 13 ;\n",
      "14 [label=\"Embarked_C <= 0.796\\ngini = 0.444\\nsamples = 3\\nvalue = [2, 1]\\nclass = 0\", fillcolor=\"#f2c09c\"] ;\n",
      "13 -> 14 ;\n",
      "15 [label=\"gini = 0.0\\nsamples = 2\\nvalue = [2, 0]\\nclass = 0\", fillcolor=\"#e58139\"] ;\n",
      "14 -> 15 ;\n",
      "16 [label=\"gini = 0.0\\nsamples = 1\\nvalue = [0, 1]\\nclass = 1\", fillcolor=\"#399de5\"] ;\n",
      "14 -> 16 ;\n",
      "17 [label=\"Age <= 1.024\\ngini = 0.153\\nsamples = 12\\nvalue = [1, 11]\\nclass = 1\", fillcolor=\"#4ba6e7\"] ;\n",
      "13 -> 17 ;\n",
      "18 [label=\"gini = 0.0\\nsamples = 9\\nvalue = [0, 9]\\nclass = 1\", fillcolor=\"#399de5\"] ;\n",
      "17 -> 18 ;\n",
      "19 [label=\"Parch <= 0.147\\ngini = 0.444\\nsamples = 3\\nvalue = [1, 2]\\nclass = 1\", fillcolor=\"#9ccef2\"] ;\n",
      "17 -> 19 ;\n",
      "20 [label=\"gini = 0.0\\nsamples = 1\\nvalue = [1, 0]\\nclass = 0\", fillcolor=\"#e58139\"] ;\n",
      "19 -> 20 ;\n",
      "21 [label=\"gini = 0.0\\nsamples = 2\\nvalue = [0, 2]\\nclass = 1\", fillcolor=\"#399de5\"] ;\n",
      "19 -> 21 ;\n",
      "22 [label=\"Fare <= -0.275\\ngini = 0.5\\nsamples = 2\\nvalue = [1, 1]\\nclass = 0\", fillcolor=\"#ffffff\"] ;\n",
      "4 -> 22 ;\n",
      "23 [label=\"gini = 0.0\\nsamples = 1\\nvalue = [1, 0]\\nclass = 0\", fillcolor=\"#e58139\"] ;\n",
      "22 -> 23 ;\n",
      "24 [label=\"gini = 0.0\\nsamples = 1\\nvalue = [0, 1]\\nclass = 1\", fillcolor=\"#399de5\"] ;\n",
      "22 -> 24 ;\n",
      "25 [label=\"gini = 0.0\\nsamples = 1\\nvalue = [1, 0]\\nclass = 0\", fillcolor=\"#e58139\"] ;\n",
      "3 -> 25 ;\n",
      "26 [label=\"Parch <= 1.388\\ngini = 0.024\\nsamples = 83\\nvalue = [1, 82]\\nclass = 1\", fillcolor=\"#3b9ee5\"] ;\n",
      "2 -> 26 ;\n",
      "27 [label=\"gini = 0.0\\nsamples = 71\\nvalue = [0, 71]\\nclass = 1\", fillcolor=\"#399de5\"] ;\n",
      "26 -> 27 ;\n",
      "28 [label=\"Age <= -0.4\\ngini = 0.153\\nsamples = 12\\nvalue = [1, 11]\\nclass = 1\", fillcolor=\"#4ba6e7\"] ;\n",
      "26 -> 28 ;\n",
      "29 [label=\"gini = 0.0\\nsamples = 8\\nvalue = [0, 8]\\nclass = 1\", fillcolor=\"#399de5\"] ;\n",
      "28 -> 29 ;\n",
      "30 [label=\"Age <= -0.131\\ngini = 0.375\\nsamples = 4\\nvalue = [1, 3]\\nclass = 1\", fillcolor=\"#7bbeee\"] ;\n",
      "28 -> 30 ;\n",
      "31 [label=\"gini = 0.0\\nsamples = 1\\nvalue = [1, 0]\\nclass = 0\", fillcolor=\"#e58139\"] ;\n",
      "30 -> 31 ;\n",
      "32 [label=\"gini = 0.0\\nsamples = 3\\nvalue = [0, 3]\\nclass = 1\", fillcolor=\"#399de5\"] ;\n",
      "30 -> 32 ;\n",
      "33 [label=\"Fare <= -0.149\\ngini = 0.498\\nsamples = 116\\nvalue = [62, 54]\\nclass = 0\", fillcolor=\"#fcefe5\"] ;\n",
      "1 -> 33 ;\n",
      "34 [label=\"Embarked_S <= -0.498\\ngini = 0.496\\nsamples = 97\\nvalue = [44, 53]\\nclass = 1\", fillcolor=\"#ddeefb\"] ;\n",
      "33 -> 34 ;\n",
      "35 [label=\"Age <= 0.031\\ngini = 0.433\\nsamples = 41\\nvalue = [13, 28]\\nclass = 1\", fillcolor=\"#95caf1\"] ;\n",
      "34 -> 35 ;\n",
      "36 [label=\"Fare <= -0.339\\ngini = 0.388\\nsamples = 38\\nvalue = [10, 28]\\nclass = 1\", fillcolor=\"#80c0ee\"] ;\n",
      "35 -> 36 ;\n",
      "37 [label=\"Fare <= -0.368\\ngini = 0.444\\nsamples = 30\\nvalue = [10, 20]\\nclass = 1\", fillcolor=\"#9ccef2\"] ;\n",
      "36 -> 37 ;\n",
      "38 [label=\"Parch <= 1.388\\ngini = 0.298\\nsamples = 22\\nvalue = [4, 18]\\nclass = 1\", fillcolor=\"#65b3eb\"] ;\n",
      "37 -> 38 ;\n",
      "39 [label=\"Fare <= -0.508\\ngini = 0.245\\nsamples = 21\\nvalue = [3, 18]\\nclass = 1\", fillcolor=\"#5aade9\"] ;\n",
      "38 -> 39 ;\n",
      "40 [label=\"gini = 0.0\\nsamples = 1\\nvalue = [1, 0]\\nclass = 0\", fillcolor=\"#e58139\"] ;\n",
      "39 -> 40 ;\n",
      "41 [label=\"Fare <= -0.492\\ngini = 0.18\\nsamples = 20\\nvalue = [2, 18]\\nclass = 1\", fillcolor=\"#4fa8e8\"] ;\n",
      "39 -> 41 ;\n",
      "42 [label=\"Fare <= -0.493\\ngini = 0.245\\nsamples = 14\\nvalue = [2, 12]\\nclass = 1\", fillcolor=\"#5aade9\"] ;\n",
      "41 -> 42 ;\n",
      "43 [label=\"gini = 0.0\\nsamples = 5\\nvalue = [0, 5]\\nclass = 1\", fillcolor=\"#399de5\"] ;\n",
      "42 -> 43 ;\n",
      "44 [label=\"Age <= -0.631\\ngini = 0.346\\nsamples = 9\\nvalue = [2, 7]\\nclass = 1\", fillcolor=\"#72b9ec\"] ;\n",
      "42 -> 44 ;\n",
      "45 [label=\"Age <= -0.862\\ngini = 0.5\\nsamples = 2\\nvalue = [1, 1]\\nclass = 0\", fillcolor=\"#ffffff\"] ;\n",
      "44 -> 45 ;\n",
      "46 [label=\"gini = 0.0\\nsamples = 1\\nvalue = [0, 1]\\nclass = 1\", fillcolor=\"#399de5\"] ;\n",
      "45 -> 46 ;\n",
      "47 [label=\"gini = 0.0\\nsamples = 1\\nvalue = [1, 0]\\nclass = 0\", fillcolor=\"#e58139\"] ;\n",
      "45 -> 47 ;\n",
      "48 [label=\"Age <= -0.296\\ngini = 0.245\\nsamples = 7\\nvalue = [1, 6]\\nclass = 1\", fillcolor=\"#5aade9\"] ;\n",
      "44 -> 48 ;\n",
      "49 [label=\"gini = 0.0\\nsamples = 1\\nvalue = [0, 1]\\nclass = 1\", fillcolor=\"#399de5\"] ;\n",
      "48 -> 49 ;\n",
      "50 [label=\"gini = 0.278\\nsamples = 6\\nvalue = [1, 5]\\nclass = 1\", fillcolor=\"#61b1ea\"] ;\n",
      "48 -> 50 ;\n",
      "51 [label=\"gini = 0.0\\nsamples = 6\\nvalue = [0, 6]\\nclass = 1\", fillcolor=\"#399de5\"] ;\n",
      "41 -> 51 ;\n",
      "52 [label=\"gini = 0.0\\nsamples = 1\\nvalue = [1, 0]\\nclass = 0\", fillcolor=\"#e58139\"] ;\n",
      "38 -> 52 ;\n",
      "53 [label=\"Age <= -0.027\\ngini = 0.375\\nsamples = 8\\nvalue = [6, 2]\\nclass = 0\", fillcolor=\"#eeab7b\"] ;\n",
      "37 -> 53 ;\n",
      "54 [label=\"Age <= -1.15\\ngini = 0.48\\nsamples = 5\\nvalue = [3, 2]\\nclass = 0\", fillcolor=\"#f6d5bd\"] ;\n",
      "53 -> 54 ;\n",
      "55 [label=\"gini = 0.0\\nsamples = 2\\nvalue = [2, 0]\\nclass = 0\", fillcolor=\"#e58139\"] ;\n",
      "54 -> 55 ;\n",
      "56 [label=\"SibSp <= -0.021\\ngini = 0.444\\nsamples = 3\\nvalue = [1, 2]\\nclass = 1\", fillcolor=\"#9ccef2\"] ;\n",
      "54 -> 56 ;\n",
      "57 [label=\"Fare <= -0.349\\ngini = 0.5\\nsamples = 2\\nvalue = [1, 1]\\nclass = 0\", fillcolor=\"#ffffff\"] ;\n",
      "56 -> 57 ;\n",
      "58 [label=\"gini = 0.0\\nsamples = 1\\nvalue = [1, 0]\\nclass = 0\", fillcolor=\"#e58139\"] ;\n",
      "57 -> 58 ;\n",
      "59 [label=\"gini = 0.0\\nsamples = 1\\nvalue = [0, 1]\\nclass = 1\", fillcolor=\"#399de5\"] ;\n",
      "57 -> 59 ;\n",
      "60 [label=\"gini = 0.0\\nsamples = 1\\nvalue = [0, 1]\\nclass = 1\", fillcolor=\"#399de5\"] ;\n",
      "56 -> 60 ;\n",
      "61 [label=\"gini = 0.0\\nsamples = 3\\nvalue = [3, 0]\\nclass = 0\", fillcolor=\"#e58139\"] ;\n",
      "53 -> 61 ;\n",
      "62 [label=\"gini = 0.0\\nsamples = 8\\nvalue = [0, 8]\\nclass = 1\", fillcolor=\"#399de5\"] ;\n",
      "36 -> 62 ;\n",
      "63 [label=\"gini = 0.0\\nsamples = 3\\nvalue = [3, 0]\\nclass = 0\", fillcolor=\"#e58139\"] ;\n",
      "35 -> 63 ;\n",
      "64 [label=\"Fare <= -0.23\\ngini = 0.494\\nsamples = 56\\nvalue = [31, 25]\\nclass = 0\", fillcolor=\"#fae7d9\"] ;\n",
      "34 -> 64 ;\n",
      "65 [label=\"Fare <= -0.43\\ngini = 0.499\\nsamples = 50\\nvalue = [26, 24]\\nclass = 0\", fillcolor=\"#fdf5f0\"] ;\n",
      "64 -> 65 ;\n",
      "66 [label=\"Age <= -0.785\\ngini = 0.469\\nsamples = 32\\nvalue = [20, 12]\\nclass = 0\", fillcolor=\"#f5cdb0\"] ;\n",
      "65 -> 66 ;\n",
      "67 [label=\"Age <= -1.093\\ngini = 0.469\\nsamples = 8\\nvalue = [3, 5]\\nclass = 1\", fillcolor=\"#b0d8f5\"] ;\n",
      "66 -> 67 ;\n",
      "68 [label=\"gini = 0.0\\nsamples = 2\\nvalue = [2, 0]\\nclass = 0\", fillcolor=\"#e58139\"] ;\n",
      "67 -> 68 ;\n",
      "69 [label=\"Fare <= -0.491\\ngini = 0.278\\nsamples = 6\\nvalue = [1, 5]\\nclass = 1\", fillcolor=\"#61b1ea\"] ;\n",
      "67 -> 69 ;\n",
      "70 [label=\"Fare <= -0.495\\ngini = 0.5\\nsamples = 2\\nvalue = [1, 1]\\nclass = 0\", fillcolor=\"#ffffff\"] ;\n",
      "69 -> 70 ;\n",
      "71 [label=\"gini = 0.0\\nsamples = 1\\nvalue = [0, 1]\\nclass = 1\", fillcolor=\"#399de5\"] ;\n",
      "70 -> 71 ;\n",
      "72 [label=\"gini = 0.0\\nsamples = 1\\nvalue = [1, 0]\\nclass = 0\", fillcolor=\"#e58139\"] ;\n",
      "70 -> 72 ;\n",
      "73 [label=\"gini = 0.0\\nsamples = 4\\nvalue = [0, 4]\\nclass = 1\", fillcolor=\"#399de5\"] ;\n",
      "69 -> 73 ;\n",
      "74 [label=\"Fare <= -0.488\\ngini = 0.413\\nsamples = 24\\nvalue = [17, 7]\\nclass = 0\", fillcolor=\"#f0b58b\"] ;\n",
      "66 -> 74 ;\n",
      "75 [label=\"Age <= -0.169\\ngini = 0.496\\nsamples = 11\\nvalue = [6, 5]\\nclass = 0\", fillcolor=\"#fbeade\"] ;\n",
      "74 -> 75 ;\n",
      "76 [label=\"Age <= -0.323\\ngini = 0.469\\nsamples = 8\\nvalue = [3, 5]\\nclass = 1\", fillcolor=\"#b0d8f5\"] ;\n",
      "75 -> 76 ;\n",
      "77 [label=\"Age <= -0.439\\ngini = 0.48\\nsamples = 5\\nvalue = [3, 2]\\nclass = 0\", fillcolor=\"#f6d5bd\"] ;\n",
      "76 -> 77 ;\n",
      "78 [label=\"Fare <= -0.49\\ngini = 0.444\\nsamples = 3\\nvalue = [1, 2]\\nclass = 1\", fillcolor=\"#9ccef2\"] ;\n",
      "77 -> 78 ;\n",
      "79 [label=\"gini = 0.0\\nsamples = 2\\nvalue = [0, 2]\\nclass = 1\", fillcolor=\"#399de5\"] ;\n",
      "78 -> 79 ;\n",
      "80 [label=\"gini = 0.0\\nsamples = 1\\nvalue = [1, 0]\\nclass = 0\", fillcolor=\"#e58139\"] ;\n",
      "78 -> 80 ;\n",
      "81 [label=\"gini = 0.0\\nsamples = 2\\nvalue = [2, 0]\\nclass = 0\", fillcolor=\"#e58139\"] ;\n",
      "77 -> 81 ;\n",
      "82 [label=\"gini = 0.0\\nsamples = 3\\nvalue = [0, 3]\\nclass = 1\", fillcolor=\"#399de5\"] ;\n",
      "76 -> 82 ;\n",
      "83 [label=\"gini = 0.0\\nsamples = 3\\nvalue = [3, 0]\\nclass = 0\", fillcolor=\"#e58139\"] ;\n",
      "75 -> 83 ;\n",
      "84 [label=\"Age <= 1.678\\ngini = 0.26\\nsamples = 13\\nvalue = [11, 2]\\nclass = 0\", fillcolor=\"#ea985d\"] ;\n",
      "74 -> 84 ;\n",
      "85 [label=\"Age <= 0.062\\ngini = 0.153\\nsamples = 12\\nvalue = [11, 1]\\nclass = 0\", fillcolor=\"#e78c4b\"] ;\n",
      "84 -> 85 ;\n",
      "86 [label=\"gini = 0.0\\nsamples = 9\\nvalue = [9, 0]\\nclass = 0\", fillcolor=\"#e58139\"] ;\n",
      "85 -> 86 ;\n",
      "87 [label=\"Age <= 0.331\\ngini = 0.444\\nsamples = 3\\nvalue = [2, 1]\\nclass = 0\", fillcolor=\"#f2c09c\"] ;\n",
      "85 -> 87 ;\n",
      "88 [label=\"gini = 0.0\\nsamples = 1\\nvalue = [0, 1]\\nclass = 1\", fillcolor=\"#399de5\"] ;\n",
      "87 -> 88 ;\n",
      "89 [label=\"gini = 0.0\\nsamples = 2\\nvalue = [2, 0]\\nclass = 0\", fillcolor=\"#e58139\"] ;\n",
      "87 -> 89 ;\n",
      "90 [label=\"gini = 0.0\\nsamples = 1\\nvalue = [0, 1]\\nclass = 1\", fillcolor=\"#399de5\"] ;\n",
      "84 -> 90 ;\n",
      "91 [label=\"Age <= 0.677\\ngini = 0.444\\nsamples = 18\\nvalue = [6, 12]\\nclass = 1\", fillcolor=\"#9ccef2\"] ;\n",
      "65 -> 91 ;\n",
      "92 [label=\"SibSp <= 0.886\\ngini = 0.375\\nsamples = 16\\nvalue = [4, 12]\\nclass = 1\", fillcolor=\"#7bbeee\"] ;\n",
      "91 -> 92 ;\n",
      "93 [label=\"SibSp <= -0.021\\ngini = 0.32\\nsamples = 15\\nvalue = [3, 12]\\nclass = 1\", fillcolor=\"#6ab6ec\"] ;\n",
      "92 -> 93 ;\n",
      "94 [label=\"gini = 0.0\\nsamples = 5\\nvalue = [0, 5]\\nclass = 1\", fillcolor=\"#399de5\"] ;\n",
      "93 -> 94 ;\n",
      "95 [label=\"Age <= -0.065\\ngini = 0.42\\nsamples = 10\\nvalue = [3, 7]\\nclass = 1\", fillcolor=\"#8ec7f0\"] ;\n",
      "93 -> 95 ;\n",
      "96 [label=\"Age <= -0.362\\ngini = 0.48\\nsamples = 5\\nvalue = [3, 2]\\nclass = 0\", fillcolor=\"#f6d5bd\"] ;\n",
      "95 -> 96 ;\n",
      "97 [label=\"Fare <= -0.31\\ngini = 0.444\\nsamples = 3\\nvalue = [1, 2]\\nclass = 1\", fillcolor=\"#9ccef2\"] ;\n",
      "96 -> 97 ;\n",
      "98 [label=\"gini = 0.0\\nsamples = 2\\nvalue = [0, 2]\\nclass = 1\", fillcolor=\"#399de5\"] ;\n",
      "97 -> 98 ;\n",
      "99 [label=\"gini = 0.0\\nsamples = 1\\nvalue = [1, 0]\\nclass = 0\", fillcolor=\"#e58139\"] ;\n",
      "97 -> 99 ;\n",
      "100 [label=\"gini = 0.0\\nsamples = 2\\nvalue = [2, 0]\\nclass = 0\", fillcolor=\"#e58139\"] ;\n",
      "96 -> 100 ;\n",
      "101 [label=\"gini = 0.0\\nsamples = 5\\nvalue = [0, 5]\\nclass = 1\", fillcolor=\"#399de5\"] ;\n",
      "95 -> 101 ;\n",
      "102 [label=\"gini = 0.0\\nsamples = 1\\nvalue = [1, 0]\\nclass = 0\", fillcolor=\"#e58139\"] ;\n",
      "92 -> 102 ;\n",
      "103 [label=\"gini = 0.0\\nsamples = 2\\nvalue = [2, 0]\\nclass = 0\", fillcolor=\"#e58139\"] ;\n",
      "91 -> 103 ;\n",
      "104 [label=\"Age <= -1.824\\ngini = 0.278\\nsamples = 6\\nvalue = [5, 1]\\nclass = 0\", fillcolor=\"#ea9a61\"] ;\n",
      "64 -> 104 ;\n",
      "105 [label=\"Fare <= -0.215\\ngini = 0.5\\nsamples = 2\\nvalue = [1, 1]\\nclass = 0\", fillcolor=\"#ffffff\"] ;\n",
      "104 -> 105 ;\n",
      "106 [label=\"gini = 0.0\\nsamples = 1\\nvalue = [1, 0]\\nclass = 0\", fillcolor=\"#e58139\"] ;\n",
      "105 -> 106 ;\n",
      "107 [label=\"gini = 0.0\\nsamples = 1\\nvalue = [0, 1]\\nclass = 1\", fillcolor=\"#399de5\"] ;\n",
      "105 -> 107 ;\n",
      "108 [label=\"gini = 0.0\\nsamples = 4\\nvalue = [4, 0]\\nclass = 0\", fillcolor=\"#e58139\"] ;\n",
      "104 -> 108 ;\n",
      "109 [label=\"Parch <= 5.112\\ngini = 0.1\\nsamples = 19\\nvalue = [18, 1]\\nclass = 0\", fillcolor=\"#e68844\"] ;\n",
      "33 -> 109 ;\n",
      "110 [label=\"gini = 0.0\\nsamples = 14\\nvalue = [14, 0]\\nclass = 0\", fillcolor=\"#e58139\"] ;\n",
      "109 -> 110 ;\n",
      "111 [label=\"Age <= 0.677\\ngini = 0.32\\nsamples = 5\\nvalue = [4, 1]\\nclass = 0\", fillcolor=\"#eca06a\"] ;\n",
      "109 -> 111 ;\n",
      "112 [label=\"gini = 0.0\\nsamples = 1\\nvalue = [0, 1]\\nclass = 1\", fillcolor=\"#399de5\"] ;\n",
      "111 -> 112 ;\n",
      "113 [label=\"gini = 0.0\\nsamples = 4\\nvalue = [4, 0]\\nclass = 0\", fillcolor=\"#e58139\"] ;\n",
      "111 -> 113 ;\n",
      "114 [label=\"Age <= -1.862\\ngini = 0.322\\nsamples = 451\\nvalue = [360, 91]\\nclass = 0\", fillcolor=\"#eca16b\"] ;\n",
      "0 -> 114 [labeldistance=2.5, labelangle=-45, headlabel=\"False\"] ;\n",
      "115 [label=\"SibSp <= 1.794\\ngini = 0.388\\nsamples = 19\\nvalue = [5, 14]\\nclass = 1\", fillcolor=\"#80c0ee\"] ;\n",
      "114 -> 115 ;\n",
      "116 [label=\"gini = 0.0\\nsamples = 13\\nvalue = [0, 13]\\nclass = 1\", fillcolor=\"#399de5\"] ;\n",
      "115 -> 116 ;\n",
      "117 [label=\"Fare <= -0.018\\ngini = 0.278\\nsamples = 6\\nvalue = [5, 1]\\nclass = 0\", fillcolor=\"#ea9a61\"] ;\n",
      "115 -> 117 ;\n",
      "118 [label=\"gini = 0.0\\nsamples = 4\\nvalue = [4, 0]\\nclass = 0\", fillcolor=\"#e58139\"] ;\n",
      "117 -> 118 ;\n",
      "119 [label=\"Age <= -2.132\\ngini = 0.5\\nsamples = 2\\nvalue = [1, 1]\\nclass = 0\", fillcolor=\"#ffffff\"] ;\n",
      "117 -> 119 ;\n",
      "120 [label=\"gini = 0.0\\nsamples = 1\\nvalue = [1, 0]\\nclass = 0\", fillcolor=\"#e58139\"] ;\n",
      "119 -> 120 ;\n",
      "121 [label=\"gini = 0.0\\nsamples = 1\\nvalue = [0, 1]\\nclass = 1\", fillcolor=\"#399de5\"] ;\n",
      "119 -> 121 ;\n",
      "122 [label=\"Fare <= -0.12\\ngini = 0.293\\nsamples = 432\\nvalue = [355, 77]\\nclass = 0\", fillcolor=\"#eb9c64\"] ;\n",
      "114 -> 122 ;\n",
      "123 [label=\"Age <= -1.516\\ngini = 0.209\\nsamples = 320\\nvalue = [282, 38]\\nclass = 0\", fillcolor=\"#e99254\"] ;\n",
      "122 -> 123 ;\n",
      "124 [label=\"gini = 0.0\\nsamples = 2\\nvalue = [0, 2]\\nclass = 1\", fillcolor=\"#399de5\"] ;\n",
      "123 -> 124 ;\n",
      "125 [label=\"Embarked_C <= 0.796\\ngini = 0.201\\nsamples = 318\\nvalue = [282, 36]\\nclass = 0\", fillcolor=\"#e89152\"] ;\n",
      "123 -> 125 ;\n",
      "126 [label=\"Age <= -0.477\\ngini = 0.179\\nsamples = 282\\nvalue = [254, 28]\\nclass = 0\", fillcolor=\"#e88f4f\"] ;\n",
      "125 -> 126 ;\n",
      "127 [label=\"Age <= -1.016\\ngini = 0.086\\nsamples = 67\\nvalue = [64, 3]\\nclass = 0\", fillcolor=\"#e68742\"] ;\n",
      "126 -> 127 ;\n",
      "128 [label=\"Fare <= -0.475\\ngini = 0.219\\nsamples = 8\\nvalue = [7, 1]\\nclass = 0\", fillcolor=\"#e99355\"] ;\n",
      "127 -> 128 ;\n",
      "129 [label=\"Fare <= -0.489\\ngini = 0.444\\nsamples = 3\\nvalue = [2, 1]\\nclass = 0\", fillcolor=\"#f2c09c\"] ;\n",
      "128 -> 129 ;\n",
      "130 [label=\"gini = 0.0\\nsamples = 1\\nvalue = [1, 0]\\nclass = 0\", fillcolor=\"#e58139\"] ;\n",
      "129 -> 130 ;\n",
      "131 [label=\"gini = 0.5\\nsamples = 2\\nvalue = [1, 1]\\nclass = 0\", fillcolor=\"#ffffff\"] ;\n",
      "129 -> 131 ;\n",
      "132 [label=\"gini = 0.0\\nsamples = 5\\nvalue = [5, 0]\\nclass = 0\", fillcolor=\"#e58139\"] ;\n",
      "128 -> 132 ;\n",
      "133 [label=\"Pclass_2 <= 0.725\\ngini = 0.065\\nsamples = 59\\nvalue = [57, 2]\\nclass = 0\", fillcolor=\"#e68540\"] ;\n",
      "127 -> 133 ;\n",
      "134 [label=\"Fare <= -0.491\\ngini = 0.041\\nsamples = 48\\nvalue = [47, 1]\\nclass = 0\", fillcolor=\"#e6843d\"] ;\n",
      "133 -> 134 ;\n",
      "135 [label=\"Fare <= -0.492\\ngini = 0.111\\nsamples = 17\\nvalue = [16, 1]\\nclass = 0\", fillcolor=\"#e78945\"] ;\n",
      "134 -> 135 ;\n",
      "136 [label=\"gini = 0.0\\nsamples = 15\\nvalue = [15, 0]\\nclass = 0\", fillcolor=\"#e58139\"] ;\n",
      "135 -> 136 ;\n",
      "137 [label=\"Age <= -0.631\\ngini = 0.5\\nsamples = 2\\nvalue = [1, 1]\\nclass = 0\", fillcolor=\"#ffffff\"] ;\n",
      "135 -> 137 ;\n",
      "138 [label=\"gini = 0.0\\nsamples = 1\\nvalue = [0, 1]\\nclass = 1\", fillcolor=\"#399de5\"] ;\n",
      "137 -> 138 ;\n",
      "139 [label=\"gini = 0.0\\nsamples = 1\\nvalue = [1, 0]\\nclass = 0\", fillcolor=\"#e58139\"] ;\n",
      "137 -> 139 ;\n",
      "140 [label=\"gini = 0.0\\nsamples = 31\\nvalue = [31, 0]\\nclass = 0\", fillcolor=\"#e58139\"] ;\n",
      "134 -> 140 ;\n",
      "141 [label=\"Fare <= -0.427\\ngini = 0.165\\nsamples = 11\\nvalue = [10, 1]\\nclass = 0\", fillcolor=\"#e88e4d\"] ;\n",
      "133 -> 141 ;\n",
      "142 [label=\"Age <= -0.669\\ngini = 0.444\\nsamples = 3\\nvalue = [2, 1]\\nclass = 0\", fillcolor=\"#f2c09c\"] ;\n",
      "141 -> 142 ;\n",
      "143 [label=\"gini = 0.5\\nsamples = 2\\nvalue = [1, 1]\\nclass = 0\", fillcolor=\"#ffffff\"] ;\n",
      "142 -> 143 ;\n",
      "144 [label=\"gini = 0.0\\nsamples = 1\\nvalue = [1, 0]\\nclass = 0\", fillcolor=\"#e58139\"] ;\n",
      "142 -> 144 ;\n",
      "145 [label=\"gini = 0.0\\nsamples = 8\\nvalue = [8, 0]\\nclass = 0\", fillcolor=\"#e58139\"] ;\n",
      "141 -> 145 ;\n",
      "146 [label=\"Fare <= -0.382\\ngini = 0.206\\nsamples = 215\\nvalue = [190, 25]\\nclass = 0\", fillcolor=\"#e89253\"] ;\n",
      "126 -> 146 ;\n",
      "147 [label=\"Fare <= -0.489\\ngini = 0.234\\nsamples = 170\\nvalue = [147, 23]\\nclass = 0\", fillcolor=\"#e99558\"] ;\n",
      "146 -> 147 ;\n",
      "148 [label=\"Age <= -0.169\\ngini = 0.177\\nsamples = 92\\nvalue = [83, 9]\\nclass = 0\", fillcolor=\"#e88f4e\"] ;\n",
      "147 -> 148 ;\n",
      "149 [label=\"Fare <= -0.507\\ngini = 0.415\\nsamples = 17\\nvalue = [12, 5]\\nclass = 0\", fillcolor=\"#f0b58b\"] ;\n",
      "148 -> 149 ;\n",
      "150 [label=\"gini = 0.0\\nsamples = 2\\nvalue = [0, 2]\\nclass = 1\", fillcolor=\"#399de5\"] ;\n",
      "149 -> 150 ;\n",
      "151 [label=\"Fare <= -0.491\\ngini = 0.32\\nsamples = 15\\nvalue = [12, 3]\\nclass = 0\", fillcolor=\"#eca06a\"] ;\n",
      "149 -> 151 ;\n",
      "152 [label=\"Age <= -0.285\\ngini = 0.42\\nsamples = 10\\nvalue = [7, 3]\\nclass = 0\", fillcolor=\"#f0b78e\"] ;\n",
      "151 -> 152 ;\n",
      "153 [label=\"SibSp <= -0.021\\ngini = 0.346\\nsamples = 9\\nvalue = [7, 2]\\nclass = 0\", fillcolor=\"#eca572\"] ;\n",
      "152 -> 153 ;\n",
      "154 [label=\"Age <= -0.4\\ngini = 0.245\\nsamples = 7\\nvalue = [6, 1]\\nclass = 0\", fillcolor=\"#e9965a\"] ;\n",
      "153 -> 154 ;\n",
      "155 [label=\"Fare <= -0.501\\ngini = 0.444\\nsamples = 3\\nvalue = [2, 1]\\nclass = 0\", fillcolor=\"#f2c09c\"] ;\n",
      "154 -> 155 ;\n",
      "156 [label=\"gini = 0.0\\nsamples = 1\\nvalue = [0, 1]\\nclass = 1\", fillcolor=\"#399de5\"] ;\n",
      "155 -> 156 ;\n",
      "157 [label=\"gini = 0.0\\nsamples = 2\\nvalue = [2, 0]\\nclass = 0\", fillcolor=\"#e58139\"] ;\n",
      "155 -> 157 ;\n",
      "158 [label=\"gini = 0.0\\nsamples = 4\\nvalue = [4, 0]\\nclass = 0\", fillcolor=\"#e58139\"] ;\n",
      "154 -> 158 ;\n",
      "159 [label=\"gini = 0.5\\nsamples = 2\\nvalue = [1, 1]\\nclass = 0\", fillcolor=\"#ffffff\"] ;\n",
      "153 -> 159 ;\n",
      "160 [label=\"gini = 0.0\\nsamples = 1\\nvalue = [0, 1]\\nclass = 1\", fillcolor=\"#399de5\"] ;\n",
      "152 -> 160 ;\n",
      "161 [label=\"gini = 0.0\\nsamples = 5\\nvalue = [5, 0]\\nclass = 0\", fillcolor=\"#e58139\"] ;\n",
      "151 -> 161 ;\n",
      "162 [label=\"Fare <= -0.493\\ngini = 0.101\\nsamples = 75\\nvalue = [71, 4]\\nclass = 0\", fillcolor=\"#e68844\"] ;\n",
      "148 -> 162 ;\n",
      "163 [label=\"gini = 0.0\\nsamples = 33\\nvalue = [33, 0]\\nclass = 0\", fillcolor=\"#e58139\"] ;\n",
      "162 -> 163 ;\n",
      "164 [label=\"Fare <= -0.49\\ngini = 0.172\\nsamples = 42\\nvalue = [38, 4]\\nclass = 0\", fillcolor=\"#e88e4e\"] ;\n",
      "162 -> 164 ;\n",
      "165 [label=\"Fare <= -0.491\\ngini = 0.269\\nsamples = 25\\nvalue = [21, 4]\\nclass = 0\", fillcolor=\"#ea995f\"] ;\n",
      "164 -> 165 ;\n",
      "166 [label=\"Age <= 0.05\\ngini = 0.227\\nsamples = 23\\nvalue = [20, 3]\\nclass = 0\", fillcolor=\"#e99457\"] ;\n",
      "165 -> 166 ;\n",
      "167 [label=\"Fare <= -0.492\\ngini = 0.32\\nsamples = 15\\nvalue = [12, 3]\\nclass = 0\", fillcolor=\"#eca06a\"] ;\n",
      "166 -> 167 ;\n",
      "168 [label=\"Age <= -0.027\\ngini = 0.355\\nsamples = 13\\nvalue = [10, 3]\\nclass = 0\", fillcolor=\"#eda774\"] ;\n",
      "167 -> 168 ;\n",
      "169 [label=\"Fare <= -0.492\\ngini = 0.5\\nsamples = 2\\nvalue = [1, 1]\\nclass = 0\", fillcolor=\"#ffffff\"] ;\n",
      "168 -> 169 ;\n",
      "170 [label=\"gini = 0.0\\nsamples = 1\\nvalue = [0, 1]\\nclass = 1\", fillcolor=\"#399de5\"] ;\n",
      "169 -> 170 ;\n",
      "171 [label=\"gini = 0.0\\nsamples = 1\\nvalue = [1, 0]\\nclass = 0\", fillcolor=\"#e58139\"] ;\n",
      "169 -> 171 ;\n",
      "172 [label=\"Embarked_S <= -0.498\\ngini = 0.298\\nsamples = 11\\nvalue = [9, 2]\\nclass = 0\", fillcolor=\"#eb9d65\"] ;\n",
      "168 -> 172 ;\n",
      "173 [label=\"SibSp <= -0.021\\ngini = 0.198\\nsamples = 9\\nvalue = [8, 1]\\nclass = 0\", fillcolor=\"#e89152\"] ;\n",
      "172 -> 173 ;\n",
      "174 [label=\"gini = 0.219\\nsamples = 8\\nvalue = [7, 1]\\nclass = 0\", fillcolor=\"#e99355\"] ;\n",
      "173 -> 174 ;\n",
      "175 [label=\"gini = 0.0\\nsamples = 1\\nvalue = [1, 0]\\nclass = 0\", fillcolor=\"#e58139\"] ;\n",
      "173 -> 175 ;\n",
      "176 [label=\"gini = 0.5\\nsamples = 2\\nvalue = [1, 1]\\nclass = 0\", fillcolor=\"#ffffff\"] ;\n",
      "172 -> 176 ;\n",
      "177 [label=\"gini = 0.0\\nsamples = 2\\nvalue = [2, 0]\\nclass = 0\", fillcolor=\"#e58139\"] ;\n",
      "167 -> 177 ;\n",
      "178 [label=\"gini = 0.0\\nsamples = 8\\nvalue = [8, 0]\\nclass = 0\", fillcolor=\"#e58139\"] ;\n",
      "166 -> 178 ;\n",
      "179 [label=\"Age <= 0.023\\ngini = 0.5\\nsamples = 2\\nvalue = [1, 1]\\nclass = 0\", fillcolor=\"#ffffff\"] ;\n",
      "165 -> 179 ;\n",
      "180 [label=\"gini = 0.0\\nsamples = 1\\nvalue = [1, 0]\\nclass = 0\", fillcolor=\"#e58139\"] ;\n",
      "179 -> 180 ;\n",
      "181 [label=\"gini = 0.0\\nsamples = 1\\nvalue = [0, 1]\\nclass = 1\", fillcolor=\"#399de5\"] ;\n",
      "179 -> 181 ;\n",
      "182 [label=\"gini = 0.0\\nsamples = 17\\nvalue = [17, 0]\\nclass = 0\", fillcolor=\"#e58139\"] ;\n",
      "164 -> 182 ;\n",
      "183 [label=\"Fare <= -0.488\\ngini = 0.295\\nsamples = 78\\nvalue = [64, 14]\\nclass = 0\", fillcolor=\"#eb9d64\"] ;\n",
      "147 -> 183 ;\n",
      "184 [label=\"SibSp <= 0.433\\ngini = 0.49\\nsamples = 7\\nvalue = [4, 3]\\nclass = 0\", fillcolor=\"#f8e0ce\"] ;\n",
      "183 -> 184 ;\n",
      "185 [label=\"Age <= 0.908\\ngini = 0.48\\nsamples = 5\\nvalue = [2, 3]\\nclass = 1\", fillcolor=\"#bddef6\"] ;\n",
      "184 -> 185 ;\n",
      "186 [label=\"Age <= 0.446\\ngini = 0.5\\nsamples = 4\\nvalue = [2, 2]\\nclass = 0\", fillcolor=\"#ffffff\"] ;\n",
      "185 -> 186 ;\n",
      "187 [label=\"gini = 0.5\\nsamples = 2\\nvalue = [1, 1]\\nclass = 0\", fillcolor=\"#ffffff\"] ;\n",
      "186 -> 187 ;\n",
      "188 [label=\"gini = 0.5\\nsamples = 2\\nvalue = [1, 1]\\nclass = 0\", fillcolor=\"#ffffff\"] ;\n",
      "186 -> 188 ;\n",
      "189 [label=\"gini = 0.0\\nsamples = 1\\nvalue = [0, 1]\\nclass = 1\", fillcolor=\"#399de5\"] ;\n",
      "185 -> 189 ;\n",
      "190 [label=\"gini = 0.0\\nsamples = 2\\nvalue = [2, 0]\\nclass = 0\", fillcolor=\"#e58139\"] ;\n",
      "184 -> 190 ;\n",
      "191 [label=\"Age <= -0.246\\ngini = 0.262\\nsamples = 71\\nvalue = [60, 11]\\nclass = 0\", fillcolor=\"#ea985d\"] ;\n",
      "183 -> 191 ;\n",
      "192 [label=\"gini = 0.0\\nsamples = 9\\nvalue = [9, 0]\\nclass = 0\", fillcolor=\"#e58139\"] ;\n",
      "191 -> 192 ;\n",
      "193 [label=\"Fare <= -0.486\\ngini = 0.292\\nsamples = 62\\nvalue = [51, 11]\\nclass = 0\", fillcolor=\"#eb9c64\"] ;\n",
      "191 -> 193 ;\n",
      "194 [label=\"Age <= 0.119\\ngini = 0.165\\nsamples = 22\\nvalue = [20, 2]\\nclass = 0\", fillcolor=\"#e88e4d\"] ;\n",
      "193 -> 194 ;\n",
      "195 [label=\"gini = 0.0\\nsamples = 11\\nvalue = [11, 0]\\nclass = 0\", fillcolor=\"#e58139\"] ;\n",
      "194 -> 195 ;\n",
      "196 [label=\"Age <= 0.254\\ngini = 0.298\\nsamples = 11\\nvalue = [9, 2]\\nclass = 0\", fillcolor=\"#eb9d65\"] ;\n",
      "194 -> 196 ;\n",
      "197 [label=\"gini = 0.0\\nsamples = 1\\nvalue = [0, 1]\\nclass = 1\", fillcolor=\"#399de5\"] ;\n",
      "196 -> 197 ;\n",
      "198 [label=\"Age <= 1.139\\ngini = 0.18\\nsamples = 10\\nvalue = [9, 1]\\nclass = 0\", fillcolor=\"#e88f4f\"] ;\n",
      "196 -> 198 ;\n",
      "199 [label=\"gini = 0.0\\nsamples = 6\\nvalue = [6, 0]\\nclass = 0\", fillcolor=\"#e58139\"] ;\n",
      "198 -> 199 ;\n",
      "200 [label=\"Age <= 1.37\\ngini = 0.375\\nsamples = 4\\nvalue = [3, 1]\\nclass = 0\", fillcolor=\"#eeab7b\"] ;\n",
      "198 -> 200 ;\n",
      "201 [label=\"gini = 0.0\\nsamples = 1\\nvalue = [0, 1]\\nclass = 1\", fillcolor=\"#399de5\"] ;\n",
      "200 -> 201 ;\n",
      "202 [label=\"gini = 0.0\\nsamples = 3\\nvalue = [3, 0]\\nclass = 0\", fillcolor=\"#e58139\"] ;\n",
      "200 -> 202 ;\n",
      "203 [label=\"Fare <= -0.483\\ngini = 0.349\\nsamples = 40\\nvalue = [31, 9]\\nclass = 0\", fillcolor=\"#eda672\"] ;\n",
      "193 -> 203 ;\n",
      "204 [label=\"gini = 0.0\\nsamples = 1\\nvalue = [0, 1]\\nclass = 1\", fillcolor=\"#399de5\"] ;\n",
      "203 -> 204 ;\n",
      "205 [label=\"Age <= 0.139\\ngini = 0.326\\nsamples = 39\\nvalue = [31, 8]\\nclass = 0\", fillcolor=\"#eca26c\"] ;\n",
      "203 -> 205 ;\n",
      "206 [label=\"Age <= 0.062\\ngini = 0.415\\nsamples = 17\\nvalue = [12, 5]\\nclass = 0\", fillcolor=\"#f0b58b\"] ;\n",
      "205 -> 206 ;\n",
      "207 [label=\"Fare <= -0.447\\ngini = 0.375\\nsamples = 16\\nvalue = [12, 4]\\nclass = 0\", fillcolor=\"#eeab7b\"] ;\n",
      "206 -> 207 ;\n",
      "208 [label=\"Age <= -0.169\\ngini = 0.469\\nsamples = 8\\nvalue = [5, 3]\\nclass = 0\", fillcolor=\"#f5cdb0\"] ;\n",
      "207 -> 208 ;\n",
      "209 [label=\"gini = 0.0\\nsamples = 1\\nvalue = [0, 1]\\nclass = 1\", fillcolor=\"#399de5\"] ;\n",
      "208 -> 209 ;\n",
      "210 [label=\"Age <= 0.012\\ngini = 0.408\\nsamples = 7\\nvalue = [5, 2]\\nclass = 0\", fillcolor=\"#efb388\"] ;\n",
      "208 -> 210 ;\n",
      "211 [label=\"Fare <= -0.457\\ngini = 0.278\\nsamples = 6\\nvalue = [5, 1]\\nclass = 0\", fillcolor=\"#ea9a61\"] ;\n",
      "210 -> 211 ;\n",
      "212 [label=\"gini = 0.0\\nsamples = 3\\nvalue = [3, 0]\\nclass = 0\", fillcolor=\"#e58139\"] ;\n",
      "211 -> 212 ;\n",
      "213 [label=\"Age <= -0.092\\ngini = 0.444\\nsamples = 3\\nvalue = [2, 1]\\nclass = 0\", fillcolor=\"#f2c09c\"] ;\n",
      "211 -> 213 ;\n",
      "214 [label=\"gini = 0.0\\nsamples = 1\\nvalue = [1, 0]\\nclass = 0\", fillcolor=\"#e58139\"] ;\n",
      "213 -> 214 ;\n",
      "215 [label=\"Age <= -0.027\\ngini = 0.5\\nsamples = 2\\nvalue = [1, 1]\\nclass = 0\", fillcolor=\"#ffffff\"] ;\n",
      "213 -> 215 ;\n",
      "216 [label=\"gini = 0.0\\nsamples = 1\\nvalue = [0, 1]\\nclass = 1\", fillcolor=\"#399de5\"] ;\n",
      "215 -> 216 ;\n",
      "217 [label=\"gini = 0.0\\nsamples = 1\\nvalue = [1, 0]\\nclass = 0\", fillcolor=\"#e58139\"] ;\n",
      "215 -> 217 ;\n",
      "218 [label=\"gini = 0.0\\nsamples = 1\\nvalue = [0, 1]\\nclass = 1\", fillcolor=\"#399de5\"] ;\n",
      "210 -> 218 ;\n",
      "219 [label=\"Age <= -0.027\\ngini = 0.219\\nsamples = 8\\nvalue = [7, 1]\\nclass = 0\", fillcolor=\"#e99355\"] ;\n",
      "207 -> 219 ;\n",
      "220 [label=\"gini = 0.0\\nsamples = 4\\nvalue = [4, 0]\\nclass = 0\", fillcolor=\"#e58139\"] ;\n",
      "219 -> 220 ;\n",
      "221 [label=\"Age <= 0.012\\ngini = 0.375\\nsamples = 4\\nvalue = [3, 1]\\nclass = 0\", fillcolor=\"#eeab7b\"] ;\n",
      "219 -> 221 ;\n",
      "222 [label=\"gini = 0.0\\nsamples = 1\\nvalue = [0, 1]\\nclass = 1\", fillcolor=\"#399de5\"] ;\n",
      "221 -> 222 ;\n",
      "223 [label=\"gini = 0.0\\nsamples = 3\\nvalue = [3, 0]\\nclass = 0\", fillcolor=\"#e58139\"] ;\n",
      "221 -> 223 ;\n",
      "224 [label=\"gini = 0.0\\nsamples = 1\\nvalue = [0, 1]\\nclass = 1\", fillcolor=\"#399de5\"] ;\n",
      "206 -> 224 ;\n",
      "225 [label=\"Pclass_3 <= -0.103\\ngini = 0.236\\nsamples = 22\\nvalue = [19, 3]\\nclass = 0\", fillcolor=\"#e99558\"] ;\n",
      "205 -> 225 ;\n",
      "226 [label=\"Age <= 2.64\\ngini = 0.305\\nsamples = 16\\nvalue = [13, 3]\\nclass = 0\", fillcolor=\"#eb9e67\"] ;\n",
      "225 -> 226 ;\n",
      "227 [label=\"Age <= 2.293\\ngini = 0.337\\nsamples = 14\\nvalue = [11, 3]\\nclass = 0\", fillcolor=\"#eca36f\"] ;\n",
      "226 -> 227 ;\n",
      "228 [label=\"Fare <= -0.393\\ngini = 0.26\\nsamples = 13\\nvalue = [11, 2]\\nclass = 0\", fillcolor=\"#ea985d\"] ;\n",
      "227 -> 228 ;\n",
      "229 [label=\"gini = 0.0\\nsamples = 4\\nvalue = [4, 0]\\nclass = 0\", fillcolor=\"#e58139\"] ;\n",
      "228 -> 229 ;\n",
      "230 [label=\"Age <= 1.177\\ngini = 0.346\\nsamples = 9\\nvalue = [7, 2]\\nclass = 0\", fillcolor=\"#eca572\"] ;\n",
      "228 -> 230 ;\n",
      "231 [label=\"Age <= 0.831\\ngini = 0.444\\nsamples = 6\\nvalue = [4, 2]\\nclass = 0\", fillcolor=\"#f2c09c\"] ;\n",
      "230 -> 231 ;\n",
      "232 [label=\"Age <= 0.408\\ngini = 0.32\\nsamples = 5\\nvalue = [4, 1]\\nclass = 0\", fillcolor=\"#eca06a\"] ;\n",
      "231 -> 232 ;\n",
      "233 [label=\"gini = 0.5\\nsamples = 2\\nvalue = [1, 1]\\nclass = 0\", fillcolor=\"#ffffff\"] ;\n",
      "232 -> 233 ;\n",
      "234 [label=\"gini = 0.0\\nsamples = 3\\nvalue = [3, 0]\\nclass = 0\", fillcolor=\"#e58139\"] ;\n",
      "232 -> 234 ;\n",
      "235 [label=\"gini = 0.0\\nsamples = 1\\nvalue = [0, 1]\\nclass = 1\", fillcolor=\"#399de5\"] ;\n",
      "231 -> 235 ;\n",
      "236 [label=\"gini = 0.0\\nsamples = 3\\nvalue = [3, 0]\\nclass = 0\", fillcolor=\"#e58139\"] ;\n",
      "230 -> 236 ;\n",
      "237 [label=\"gini = 0.0\\nsamples = 1\\nvalue = [0, 1]\\nclass = 1\", fillcolor=\"#399de5\"] ;\n",
      "227 -> 237 ;\n",
      "238 [label=\"gini = 0.0\\nsamples = 2\\nvalue = [2, 0]\\nclass = 0\", fillcolor=\"#e58139\"] ;\n",
      "226 -> 238 ;\n",
      "239 [label=\"gini = 0.0\\nsamples = 6\\nvalue = [6, 0]\\nclass = 0\", fillcolor=\"#e58139\"] ;\n",
      "225 -> 239 ;\n",
      "240 [label=\"SibSp <= 0.886\\ngini = 0.085\\nsamples = 45\\nvalue = [43, 2]\\nclass = 0\", fillcolor=\"#e68742\"] ;\n",
      "146 -> 240 ;\n",
      "241 [label=\"Fare <= -0.126\\ngini = 0.046\\nsamples = 42\\nvalue = [41, 1]\\nclass = 0\", fillcolor=\"#e6843e\"] ;\n",
      "240 -> 241 ;\n",
      "242 [label=\"gini = 0.0\\nsamples = 29\\nvalue = [29, 0]\\nclass = 0\", fillcolor=\"#e58139\"] ;\n",
      "241 -> 242 ;\n",
      "243 [label=\"Age <= 0.254\\ngini = 0.142\\nsamples = 13\\nvalue = [12, 1]\\nclass = 0\", fillcolor=\"#e78c49\"] ;\n",
      "241 -> 243 ;\n",
      "244 [label=\"Age <= 0.139\\ngini = 0.375\\nsamples = 4\\nvalue = [3, 1]\\nclass = 0\", fillcolor=\"#eeab7b\"] ;\n",
      "243 -> 244 ;\n",
      "245 [label=\"gini = 0.0\\nsamples = 3\\nvalue = [3, 0]\\nclass = 0\", fillcolor=\"#e58139\"] ;\n",
      "244 -> 245 ;\n",
      "246 [label=\"gini = 0.0\\nsamples = 1\\nvalue = [0, 1]\\nclass = 1\", fillcolor=\"#399de5\"] ;\n",
      "244 -> 246 ;\n",
      "247 [label=\"gini = 0.0\\nsamples = 9\\nvalue = [9, 0]\\nclass = 0\", fillcolor=\"#e58139\"] ;\n",
      "243 -> 247 ;\n",
      "248 [label=\"Embarked_Q <= 1.472\\ngini = 0.444\\nsamples = 3\\nvalue = [2, 1]\\nclass = 0\", fillcolor=\"#f2c09c\"] ;\n",
      "240 -> 248 ;\n",
      "249 [label=\"gini = 0.0\\nsamples = 2\\nvalue = [2, 0]\\nclass = 0\", fillcolor=\"#e58139\"] ;\n",
      "248 -> 249 ;\n",
      "250 [label=\"gini = 0.0\\nsamples = 1\\nvalue = [0, 1]\\nclass = 1\", fillcolor=\"#399de5\"] ;\n",
      "248 -> 250 ;\n",
      "251 [label=\"Parch <= 0.147\\ngini = 0.346\\nsamples = 36\\nvalue = [28, 8]\\nclass = 0\", fillcolor=\"#eca572\"] ;\n",
      "125 -> 251 ;\n",
      "252 [label=\"Age <= -0.554\\ngini = 0.271\\nsamples = 31\\nvalue = [26, 5]\\nclass = 0\", fillcolor=\"#ea995f\"] ;\n",
      "251 -> 252 ;\n",
      "253 [label=\"Fare <= -0.535\\ngini = 0.5\\nsamples = 4\\nvalue = [2, 2]\\nclass = 0\", fillcolor=\"#ffffff\"] ;\n",
      "252 -> 253 ;\n",
      "254 [label=\"gini = 0.0\\nsamples = 1\\nvalue = [1, 0]\\nclass = 0\", fillcolor=\"#e58139\"] ;\n",
      "253 -> 254 ;\n",
      "255 [label=\"Fare <= -0.387\\ngini = 0.444\\nsamples = 3\\nvalue = [1, 2]\\nclass = 1\", fillcolor=\"#9ccef2\"] ;\n",
      "253 -> 255 ;\n",
      "256 [label=\"gini = 0.0\\nsamples = 2\\nvalue = [0, 2]\\nclass = 1\", fillcolor=\"#399de5\"] ;\n",
      "255 -> 256 ;\n",
      "257 [label=\"gini = 0.0\\nsamples = 1\\nvalue = [1, 0]\\nclass = 0\", fillcolor=\"#e58139\"] ;\n",
      "255 -> 257 ;\n",
      "258 [label=\"Age <= -0.073\\ngini = 0.198\\nsamples = 27\\nvalue = [24, 3]\\nclass = 0\", fillcolor=\"#e89152\"] ;\n",
      "252 -> 258 ;\n",
      "259 [label=\"gini = 0.0\\nsamples = 6\\nvalue = [6, 0]\\nclass = 0\", fillcolor=\"#e58139\"] ;\n",
      "258 -> 259 ;\n",
      "260 [label=\"Age <= -0.027\\ngini = 0.245\\nsamples = 21\\nvalue = [18, 3]\\nclass = 0\", fillcolor=\"#e9965a\"] ;\n",
      "258 -> 260 ;\n",
      "261 [label=\"gini = 0.0\\nsamples = 1\\nvalue = [0, 1]\\nclass = 1\", fillcolor=\"#399de5\"] ;\n",
      "260 -> 261 ;\n",
      "262 [label=\"Fare <= -0.379\\ngini = 0.18\\nsamples = 20\\nvalue = [18, 2]\\nclass = 0\", fillcolor=\"#e88f4f\"] ;\n",
      "260 -> 262 ;\n",
      "263 [label=\"Fare <= -0.496\\ngini = 0.117\\nsamples = 16\\nvalue = [15, 1]\\nclass = 0\", fillcolor=\"#e78946\"] ;\n",
      "262 -> 263 ;\n",
      "264 [label=\"Fare <= -0.503\\ngini = 0.18\\nsamples = 10\\nvalue = [9, 1]\\nclass = 0\", fillcolor=\"#e88f4f\"] ;\n",
      "263 -> 264 ;\n",
      "265 [label=\"gini = 0.0\\nsamples = 5\\nvalue = [5, 0]\\nclass = 0\", fillcolor=\"#e58139\"] ;\n",
      "264 -> 265 ;\n",
      "266 [label=\"gini = 0.32\\nsamples = 5\\nvalue = [4, 1]\\nclass = 0\", fillcolor=\"#eca06a\"] ;\n",
      "264 -> 266 ;\n",
      "267 [label=\"gini = 0.0\\nsamples = 6\\nvalue = [6, 0]\\nclass = 0\", fillcolor=\"#e58139\"] ;\n",
      "263 -> 267 ;\n",
      "268 [label=\"Fare <= -0.357\\ngini = 0.375\\nsamples = 4\\nvalue = [3, 1]\\nclass = 0\", fillcolor=\"#eeab7b\"] ;\n",
      "262 -> 268 ;\n",
      "269 [label=\"gini = 0.0\\nsamples = 1\\nvalue = [0, 1]\\nclass = 1\", fillcolor=\"#399de5\"] ;\n",
      "268 -> 269 ;\n",
      "270 [label=\"gini = 0.0\\nsamples = 3\\nvalue = [3, 0]\\nclass = 0\", fillcolor=\"#e58139\"] ;\n",
      "268 -> 270 ;\n",
      "271 [label=\"Fare <= -0.422\\ngini = 0.48\\nsamples = 5\\nvalue = [2, 3]\\nclass = 1\", fillcolor=\"#bddef6\"] ;\n",
      "251 -> 271 ;\n",
      "272 [label=\"gini = 0.0\\nsamples = 2\\nvalue = [2, 0]\\nclass = 0\", fillcolor=\"#e58139\"] ;\n",
      "271 -> 272 ;\n",
      "273 [label=\"gini = 0.0\\nsamples = 3\\nvalue = [0, 3]\\nclass = 1\", fillcolor=\"#399de5\"] ;\n",
      "271 -> 273 ;\n",
      "274 [label=\"SibSp <= 1.794\\ngini = 0.454\\nsamples = 112\\nvalue = [73, 39]\\nclass = 0\", fillcolor=\"#f3c4a3\"] ;\n",
      "122 -> 274 ;\n",
      "275 [label=\"Pclass_2 <= 0.725\\ngini = 0.474\\nsamples = 101\\nvalue = [62, 39]\\nclass = 0\", fillcolor=\"#f5d0b6\"] ;\n",
      "274 -> 275 ;\n",
      "276 [label=\"Age <= 1.024\\ngini = 0.491\\nsamples = 88\\nvalue = [50, 38]\\nclass = 0\", fillcolor=\"#f9e1cf\"] ;\n",
      "275 -> 276 ;\n",
      "277 [label=\"Age <= 0.139\\ngini = 0.497\\nsamples = 56\\nvalue = [26, 30]\\nclass = 1\", fillcolor=\"#e5f2fc\"] ;\n",
      "276 -> 277 ;\n",
      "278 [label=\"Pclass_3 <= -0.103\\ngini = 0.494\\nsamples = 38\\nvalue = [21, 17]\\nclass = 0\", fillcolor=\"#fae7d9\"] ;\n",
      "277 -> 278 ;\n",
      "279 [label=\"Age <= -0.939\\ngini = 0.48\\nsamples = 35\\nvalue = [21, 14]\\nclass = 0\", fillcolor=\"#f6d5bd\"] ;\n",
      "278 -> 279 ;\n",
      "280 [label=\"gini = 0.0\\nsamples = 2\\nvalue = [0, 2]\\nclass = 1\", fillcolor=\"#399de5\"] ;\n",
      "279 -> 280 ;\n",
      "281 [label=\"Fare <= 0.66\\ngini = 0.463\\nsamples = 33\\nvalue = [21, 12]\\nclass = 0\", fillcolor=\"#f4c9aa\"] ;\n",
      "279 -> 281 ;\n",
      "282 [label=\"Age <= -0.169\\ngini = 0.497\\nsamples = 24\\nvalue = [13, 11]\\nclass = 0\", fillcolor=\"#fbece1\"] ;\n",
      "281 -> 282 ;\n",
      "283 [label=\"Age <= -0.669\\ngini = 0.278\\nsamples = 6\\nvalue = [1, 5]\\nclass = 1\", fillcolor=\"#61b1ea\"] ;\n",
      "282 -> 283 ;\n",
      "284 [label=\"gini = 0.0\\nsamples = 1\\nvalue = [1, 0]\\nclass = 0\", fillcolor=\"#e58139\"] ;\n",
      "283 -> 284 ;\n",
      "285 [label=\"gini = 0.0\\nsamples = 5\\nvalue = [0, 5]\\nclass = 1\", fillcolor=\"#399de5\"] ;\n",
      "283 -> 285 ;\n",
      "286 [label=\"Embarked_S <= -0.498\\ngini = 0.444\\nsamples = 18\\nvalue = [12, 6]\\nclass = 0\", fillcolor=\"#f2c09c\"] ;\n",
      "282 -> 286 ;\n",
      "287 [label=\"gini = 0.0\\nsamples = 5\\nvalue = [5, 0]\\nclass = 0\", fillcolor=\"#e58139\"] ;\n",
      "286 -> 287 ;\n",
      "288 [label=\"Fare <= 0.183\\ngini = 0.497\\nsamples = 13\\nvalue = [7, 6]\\nclass = 0\", fillcolor=\"#fbede3\"] ;\n",
      "286 -> 288 ;\n",
      "289 [label=\"Fare <= 0.061\\ngini = 0.469\\nsamples = 8\\nvalue = [3, 5]\\nclass = 1\", fillcolor=\"#b0d8f5\"] ;\n",
      "288 -> 289 ;\n",
      "290 [label=\"Age <= -0.027\\ngini = 0.5\\nsamples = 6\\nvalue = [3, 3]\\nclass = 0\", fillcolor=\"#ffffff\"] ;\n",
      "289 -> 290 ;\n",
      "291 [label=\"gini = 0.0\\nsamples = 1\\nvalue = [1, 0]\\nclass = 0\", fillcolor=\"#e58139\"] ;\n",
      "290 -> 291 ;\n",
      "292 [label=\"Fare <= 0.011\\ngini = 0.48\\nsamples = 5\\nvalue = [2, 3]\\nclass = 1\", fillcolor=\"#bddef6\"] ;\n",
      "290 -> 292 ;\n",
      "293 [label=\"Fare <= -0.079\\ngini = 0.375\\nsamples = 4\\nvalue = [1, 3]\\nclass = 1\", fillcolor=\"#7bbeee\"] ;\n",
      "292 -> 293 ;\n",
      "294 [label=\"gini = 0.5\\nsamples = 2\\nvalue = [1, 1]\\nclass = 0\", fillcolor=\"#ffffff\"] ;\n",
      "293 -> 294 ;\n",
      "295 [label=\"gini = 0.0\\nsamples = 2\\nvalue = [0, 2]\\nclass = 1\", fillcolor=\"#399de5\"] ;\n",
      "293 -> 295 ;\n",
      "296 [label=\"gini = 0.0\\nsamples = 1\\nvalue = [1, 0]\\nclass = 0\", fillcolor=\"#e58139\"] ;\n",
      "292 -> 296 ;\n",
      "297 [label=\"gini = 0.0\\nsamples = 2\\nvalue = [0, 2]\\nclass = 1\", fillcolor=\"#399de5\"] ;\n",
      "289 -> 297 ;\n",
      "298 [label=\"Fare <= 0.449\\ngini = 0.32\\nsamples = 5\\nvalue = [4, 1]\\nclass = 0\", fillcolor=\"#eca06a\"] ;\n",
      "288 -> 298 ;\n",
      "299 [label=\"gini = 0.0\\nsamples = 4\\nvalue = [4, 0]\\nclass = 0\", fillcolor=\"#e58139\"] ;\n",
      "298 -> 299 ;\n",
      "300 [label=\"gini = 0.0\\nsamples = 1\\nvalue = [0, 1]\\nclass = 1\", fillcolor=\"#399de5\"] ;\n",
      "298 -> 300 ;\n",
      "301 [label=\"SibSp <= -0.021\\ngini = 0.198\\nsamples = 9\\nvalue = [8, 1]\\nclass = 0\", fillcolor=\"#e89152\"] ;\n",
      "281 -> 301 ;\n",
      "302 [label=\"gini = 0.0\\nsamples = 5\\nvalue = [5, 0]\\nclass = 0\", fillcolor=\"#e58139\"] ;\n",
      "301 -> 302 ;\n",
      "303 [label=\"Fare <= 1.096\\ngini = 0.375\\nsamples = 4\\nvalue = [3, 1]\\nclass = 0\", fillcolor=\"#eeab7b\"] ;\n",
      "301 -> 303 ;\n",
      "304 [label=\"gini = 0.0\\nsamples = 2\\nvalue = [2, 0]\\nclass = 0\", fillcolor=\"#e58139\"] ;\n",
      "303 -> 304 ;\n",
      "305 [label=\"Age <= -0.631\\ngini = 0.5\\nsamples = 2\\nvalue = [1, 1]\\nclass = 0\", fillcolor=\"#ffffff\"] ;\n",
      "303 -> 305 ;\n",
      "306 [label=\"gini = 0.0\\nsamples = 1\\nvalue = [1, 0]\\nclass = 0\", fillcolor=\"#e58139\"] ;\n",
      "305 -> 306 ;\n",
      "307 [label=\"gini = 0.0\\nsamples = 1\\nvalue = [0, 1]\\nclass = 1\", fillcolor=\"#399de5\"] ;\n",
      "305 -> 307 ;\n",
      "308 [label=\"gini = 0.0\\nsamples = 3\\nvalue = [0, 3]\\nclass = 1\", fillcolor=\"#399de5\"] ;\n",
      "278 -> 308 ;\n",
      "309 [label=\"Age <= 0.446\\ngini = 0.401\\nsamples = 18\\nvalue = [5, 13]\\nclass = 1\", fillcolor=\"#85c3ef\"] ;\n",
      "277 -> 309 ;\n",
      "310 [label=\"gini = 0.0\\nsamples = 7\\nvalue = [0, 7]\\nclass = 1\", fillcolor=\"#399de5\"] ;\n",
      "309 -> 310 ;\n",
      "311 [label=\"Fare <= -0.102\\ngini = 0.496\\nsamples = 11\\nvalue = [5, 6]\\nclass = 1\", fillcolor=\"#deeffb\"] ;\n",
      "309 -> 311 ;\n",
      "312 [label=\"gini = 0.0\\nsamples = 2\\nvalue = [0, 2]\\nclass = 1\", fillcolor=\"#399de5\"] ;\n",
      "311 -> 312 ;\n",
      "313 [label=\"Fare <= 6.054\\ngini = 0.494\\nsamples = 9\\nvalue = [5, 4]\\nclass = 0\", fillcolor=\"#fae6d7\"] ;\n",
      "311 -> 313 ;\n",
      "314 [label=\"Age <= 0.6\\ngini = 0.469\\nsamples = 8\\nvalue = [5, 3]\\nclass = 0\", fillcolor=\"#f5cdb0\"] ;\n",
      "313 -> 314 ;\n",
      "315 [label=\"gini = 0.0\\nsamples = 3\\nvalue = [3, 0]\\nclass = 0\", fillcolor=\"#e58139\"] ;\n",
      "314 -> 315 ;\n",
      "316 [label=\"Parch <= 0.147\\ngini = 0.48\\nsamples = 5\\nvalue = [2, 3]\\nclass = 1\", fillcolor=\"#bddef6\"] ;\n",
      "314 -> 316 ;\n",
      "317 [label=\"gini = 0.0\\nsamples = 3\\nvalue = [0, 3]\\nclass = 1\", fillcolor=\"#399de5\"] ;\n",
      "316 -> 317 ;\n",
      "318 [label=\"gini = 0.0\\nsamples = 2\\nvalue = [2, 0]\\nclass = 0\", fillcolor=\"#e58139\"] ;\n",
      "316 -> 318 ;\n",
      "319 [label=\"gini = 0.0\\nsamples = 1\\nvalue = [0, 1]\\nclass = 1\", fillcolor=\"#399de5\"] ;\n",
      "313 -> 319 ;\n",
      "320 [label=\"Age <= 1.37\\ngini = 0.375\\nsamples = 32\\nvalue = [24, 8]\\nclass = 0\", fillcolor=\"#eeab7b\"] ;\n",
      "276 -> 320 ;\n",
      "321 [label=\"gini = 0.0\\nsamples = 9\\nvalue = [9, 0]\\nclass = 0\", fillcolor=\"#e58139\"] ;\n",
      "320 -> 321 ;\n",
      "322 [label=\"Age <= 1.793\\ngini = 0.454\\nsamples = 23\\nvalue = [15, 8]\\nclass = 0\", fillcolor=\"#f3c4a3\"] ;\n",
      "320 -> 322 ;\n",
      "323 [label=\"Fare <= 0.438\\ngini = 0.444\\nsamples = 9\\nvalue = [3, 6]\\nclass = 1\", fillcolor=\"#9ccef2\"] ;\n",
      "322 -> 323 ;\n",
      "324 [label=\"gini = 0.0\\nsamples = 4\\nvalue = [0, 4]\\nclass = 1\", fillcolor=\"#399de5\"] ;\n",
      "323 -> 324 ;\n",
      "325 [label=\"SibSp <= 0.886\\ngini = 0.48\\nsamples = 5\\nvalue = [3, 2]\\nclass = 0\", fillcolor=\"#f6d5bd\"] ;\n",
      "323 -> 325 ;\n",
      "326 [label=\"Age <= 1.524\\ngini = 0.375\\nsamples = 4\\nvalue = [3, 1]\\nclass = 0\", fillcolor=\"#eeab7b\"] ;\n",
      "325 -> 326 ;\n",
      "327 [label=\"gini = 0.0\\nsamples = 1\\nvalue = [0, 1]\\nclass = 1\", fillcolor=\"#399de5\"] ;\n",
      "326 -> 327 ;\n",
      "328 [label=\"gini = 0.0\\nsamples = 3\\nvalue = [3, 0]\\nclass = 0\", fillcolor=\"#e58139\"] ;\n",
      "326 -> 328 ;\n",
      "329 [label=\"gini = 0.0\\nsamples = 1\\nvalue = [0, 1]\\nclass = 1\", fillcolor=\"#399de5\"] ;\n",
      "325 -> 329 ;\n",
      "330 [label=\"Age <= 3.525\\ngini = 0.245\\nsamples = 14\\nvalue = [12, 2]\\nclass = 0\", fillcolor=\"#e9965a\"] ;\n",
      "322 -> 330 ;\n",
      "331 [label=\"Embarked_S <= -0.498\\ngini = 0.142\\nsamples = 13\\nvalue = [12, 1]\\nclass = 0\", fillcolor=\"#e78c49\"] ;\n",
      "330 -> 331 ;\n",
      "332 [label=\"Fare <= 0.058\\ngini = 0.375\\nsamples = 4\\nvalue = [3, 1]\\nclass = 0\", fillcolor=\"#eeab7b\"] ;\n",
      "331 -> 332 ;\n",
      "333 [label=\"gini = 0.0\\nsamples = 3\\nvalue = [3, 0]\\nclass = 0\", fillcolor=\"#e58139\"] ;\n",
      "332 -> 333 ;\n",
      "334 [label=\"gini = 0.0\\nsamples = 1\\nvalue = [0, 1]\\nclass = 1\", fillcolor=\"#399de5\"] ;\n",
      "332 -> 334 ;\n",
      "335 [label=\"gini = 0.0\\nsamples = 9\\nvalue = [9, 0]\\nclass = 0\", fillcolor=\"#e58139\"] ;\n",
      "331 -> 335 ;\n",
      "336 [label=\"gini = 0.0\\nsamples = 1\\nvalue = [0, 1]\\nclass = 1\", fillcolor=\"#399de5\"] ;\n",
      "330 -> 336 ;\n",
      "337 [label=\"Age <= -1.285\\ngini = 0.142\\nsamples = 13\\nvalue = [12, 1]\\nclass = 0\", fillcolor=\"#e78c49\"] ;\n",
      "275 -> 337 ;\n",
      "338 [label=\"gini = 0.0\\nsamples = 1\\nvalue = [0, 1]\\nclass = 1\", fillcolor=\"#399de5\"] ;\n",
      "337 -> 338 ;\n",
      "339 [label=\"gini = 0.0\\nsamples = 12\\nvalue = [12, 0]\\nclass = 0\", fillcolor=\"#e58139\"] ;\n",
      "337 -> 339 ;\n",
      "340 [label=\"gini = 0.0\\nsamples = 11\\nvalue = [11, 0]\\nclass = 0\", fillcolor=\"#e58139\"] ;\n",
      "274 -> 340 ;\n",
      "}\n"
     ]
    }
   ],
   "source": [
    "get_tree_dot_view(trclf, list(X_train_fin.columns), ['0','1'])"
   ]
  },
  {
   "cell_type": "markdown",
   "metadata": {},
   "source": [
    " see grphs at http://www.webgraphviz.com"
   ]
  },
  {
   "cell_type": "markdown",
   "metadata": {},
   "source": [
    "### Parameter significance"
   ]
  },
  {
   "cell_type": "code",
   "execution_count": 110,
   "metadata": {},
   "outputs": [
    {
     "data": {
      "text/plain": [
       "([<matplotlib.axis.YTick at 0x7fdda7cb6ee0>,\n",
       "  <matplotlib.axis.YTick at 0x7fdda7cb2be0>,\n",
       "  <matplotlib.axis.YTick at 0x7fdda7ca32e0>,\n",
       "  <matplotlib.axis.YTick at 0x7fdda7a1b070>,\n",
       "  <matplotlib.axis.YTick at 0x7fdda7a1b580>,\n",
       "  <matplotlib.axis.YTick at 0x7fdda7a1b190>,\n",
       "  <matplotlib.axis.YTick at 0x7fdda7a1bc70>,\n",
       "  <matplotlib.axis.YTick at 0x7fdda7a161c0>,\n",
       "  <matplotlib.axis.YTick at 0x7fdda7a166d0>,\n",
       "  <matplotlib.axis.YTick at 0x7fdda7a16be0>,\n",
       "  <matplotlib.axis.YTick at 0x7fdda7a1f130>],\n",
       " [Text(0, 0, 'Age'),\n",
       "  Text(0, 1, 'SibSp'),\n",
       "  Text(0, 2, 'Parch'),\n",
       "  Text(0, 3, 'Fare'),\n",
       "  Text(0, 4, 'isMale'),\n",
       "  Text(0, 5, 'Pclass_1'),\n",
       "  Text(0, 6, 'Pclass_2'),\n",
       "  Text(0, 7, 'Pclass_3'),\n",
       "  Text(0, 8, 'Embarked_C'),\n",
       "  Text(0, 9, 'Embarked_Q'),\n",
       "  Text(0, 10, 'Embarked_S')])"
      ]
     },
     "execution_count": 110,
     "metadata": {},
     "output_type": "execute_result"
    },
    {
     "data": {
      "image/png": "[encoded data removed]",
      "text/plain": [
       "<Figure size 648x432 with 1 Axes>"
      ]
     },
     "metadata": {
      "image/png": {
       "height": 357,
       "width": 587
      },
      "needs_background": "light"
     },
     "output_type": "display_data"
    }
   ],
   "source": [
    "trclf = DecisionTreeClassifier()\n",
    "trclf.fit(X_train_fin, y_train_fin)\n",
    "\n",
    "plt.barh(np.arange(len(trclf.feature_importances_)), trclf.feature_importances_)\n",
    "plt.yticks(np.arange(len(X_train_fin.columns)),X_train_fin.columns)"
   ]
  },
  {
   "cell_type": "markdown",
   "metadata": {},
   "source": [
    "### Cross-validation for tree's depth"
   ]
  },
  {
   "cell_type": "code",
   "execution_count": 56,
   "metadata": {},
   "outputs": [],
   "source": [
    "from sklearn.model_selection import GridSearchCV"
   ]
  },
  {
   "cell_type": "code",
   "execution_count": 57,
   "metadata": {},
   "outputs": [],
   "source": [
    "depths = np.arange(1,10)\n",
    "#features_num = np.arange(5,15)\n",
    "grid = {'max_depth': depths}#, 'max_features': features_num}\n",
    "gridsearch = GridSearchCV(DecisionTreeClassifier(), grid, scoring='neg_log_loss', cv=5)"
   ]
  },
  {
   "cell_type": "code",
   "execution_count": 58,
   "metadata": {},
   "outputs": [
    {
     "name": "stdout",
     "output_type": "stream",
     "text": [
      "CPU times: user 215 ms, sys: 1.3 ms, total: 217 ms\n",
      "Wall time: 216 ms\n"
     ]
    },
    {
     "data": {
      "text/plain": [
       "GridSearchCV(cv=5, estimator=DecisionTreeClassifier(),\n",
       "             param_grid={'max_depth': array([1, 2, 3, 4, 5, 6, 7, 8, 9])},\n",
       "             scoring='neg_log_loss')"
      ]
     },
     "execution_count": 58,
     "metadata": {},
     "output_type": "execute_result"
    }
   ],
   "source": [
    "%%time\n",
    "gridsearch.fit(X_train_fin, y_train_fin)"
   ]
  },
  {
   "cell_type": "code",
   "execution_count": 59,
   "metadata": {},
   "outputs": [
    {
     "data": {
      "text/plain": [
       "dict_keys(['mean_fit_time', 'std_fit_time', 'mean_score_time', 'std_score_time', 'param_max_depth', 'params', 'split0_test_score', 'split1_test_score', 'split2_test_score', 'split3_test_score', 'split4_test_score', 'mean_test_score', 'std_test_score', 'rank_test_score'])"
      ]
     },
     "execution_count": 59,
     "metadata": {},
     "output_type": "execute_result"
    }
   ],
   "source": [
    "gridsearch.cv_results_.keys()"
   ]
  },
  {
   "cell_type": "code",
   "execution_count": 60,
   "metadata": {},
   "outputs": [
    {
     "data": {
      "text/plain": [
       "[0.5137067480182405,\n",
       " 0.4702032355646481,\n",
       " 0.5718554595664471,\n",
       " 0.8434845410718624,\n",
       " 1.1969652329186538,\n",
       " 2.2792686389168795,\n",
       " 2.942464181361674,\n",
       " 3.865519840419227,\n",
       " 4.743307031017824]"
      ]
     },
     "execution_count": 60,
     "metadata": {},
     "output_type": "execute_result"
    }
   ],
   "source": [
    "scores = [ -x for x in gridsearch.cv_results_.get('mean_test_score')]\n",
    "scores"
   ]
  },
  {
   "cell_type": "code",
   "execution_count": 61,
   "metadata": {},
   "outputs": [
    {
     "data": {
      "text/plain": [
       "<matplotlib.collections.PathCollection at 0x7fddc4af8a00>"
      ]
     },
     "execution_count": 61,
     "metadata": {},
     "output_type": "execute_result"
    },
    {
     "data": {
      "image/png": "[encoded data removed]",
      "text/plain": [
       "<Figure size 648x432 with 1 Axes>"
      ]
     },
     "metadata": {
      "image/png": {
       "height": 357,
       "width": 529
      },
      "needs_background": "light"
     },
     "output_type": "display_data"
    }
   ],
   "source": [
    "plt.plot(depths, scores)\n",
    "plt.scatter(depths, scores)\n",
    "best_point = np.argmin(scores)\n",
    "plt.scatter(depths[best_point], scores[best_point], c='g', s=100)"
   ]
  },
  {
   "cell_type": "markdown",
   "metadata": {},
   "source": [
    "The best tree's depth = 2"
   ]
  },
  {
   "cell_type": "markdown",
   "metadata": {},
   "source": [
    "### Final predict"
   ]
  },
  {
   "cell_type": "code",
   "execution_count": 75,
   "metadata": {},
   "outputs": [],
   "source": [
    "trclf_final = DecisionTreeClassifier(max_depth=2)"
   ]
  },
  {
   "cell_type": "code",
   "execution_count": 76,
   "metadata": {},
   "outputs": [
    {
     "data": {
      "text/plain": [
       "DecisionTreeClassifier(max_depth=2)"
      ]
     },
     "execution_count": 76,
     "metadata": {},
     "output_type": "execute_result"
    }
   ],
   "source": [
    "trclf_final.fit(X_train_fin, y_train_fin)"
   ]
  },
  {
   "cell_type": "code",
   "execution_count": 77,
   "metadata": {},
   "outputs": [],
   "source": [
    "y_pred = trclf_final.predict(X_val)\n",
    "y_pred_proba = trclf_final.predict_proba(X_val)"
   ]
  },
  {
   "cell_type": "code",
   "execution_count": 78,
   "metadata": {},
   "outputs": [
    {
     "name": "stdout",
     "output_type": "stream",
     "text": [
      "digraph Tree {\n",
      "node [shape=box, style=\"filled\", color=\"black\"] ;\n",
      "0 [label=\"isMale <= -0.309\\ngini = 0.479\\nsamples = 712\\nvalue = [429, 283]\\nclass = 0\", fillcolor=\"#f6d4bc\"] ;\n",
      "1 [label=\"Pclass_3 <= -0.103\\ngini = 0.389\\nsamples = 261\\nvalue = [69, 192]\\nclass = 1\", fillcolor=\"#80c0ee\"] ;\n",
      "0 -> 1 [labeldistance=2.5, labelangle=45, headlabel=\"True\"] ;\n",
      "2 [label=\"gini = 0.092\\nsamples = 145\\nvalue = [7, 138]\\nclass = 1\", fillcolor=\"#43a2e6\"] ;\n",
      "1 -> 2 ;\n",
      "3 [label=\"gini = 0.498\\nsamples = 116\\nvalue = [62, 54]\\nclass = 0\", fillcolor=\"#fcefe5\"] ;\n",
      "1 -> 3 ;\n",
      "4 [label=\"Age <= -1.862\\ngini = 0.322\\nsamples = 451\\nvalue = [360, 91]\\nclass = 0\", fillcolor=\"#eca16b\"] ;\n",
      "0 -> 4 [labeldistance=2.5, labelangle=-45, headlabel=\"False\"] ;\n",
      "5 [label=\"gini = 0.388\\nsamples = 19\\nvalue = [5, 14]\\nclass = 1\", fillcolor=\"#80c0ee\"] ;\n",
      "4 -> 5 ;\n",
      "6 [label=\"gini = 0.293\\nsamples = 432\\nvalue = [355, 77]\\nclass = 0\", fillcolor=\"#eb9c64\"] ;\n",
      "4 -> 6 ;\n",
      "}\n"
     ]
    }
   ],
   "source": [
    "get_tree_dot_view(trclf_final, list(X_val.columns), ['0','1'])"
   ]
  },
  {
   "attachments": {
    "bf2c64a4-3aec-4ed7-bd1d-cd2ae55249a7.png": {
     "image/png": "[encoded data removed]"
    }
   },
   "cell_type": "markdown",
   "metadata": {},
   "source": [
    "![tree_graph.png](attachment:bf2c64a4-3aec-4ed7-bd1d-cd2ae55249a7.png)"
   ]
  },
  {
   "cell_type": "code",
   "execution_count": 89,
   "metadata": {},
   "outputs": [],
   "source": [
    "from sklearn import metrics"
   ]
  },
  {
   "cell_type": "code",
   "execution_count": 122,
   "metadata": {},
   "outputs": [
    {
     "data": {
      "text/plain": [
       "0.7932960893854749"
      ]
     },
     "execution_count": 122,
     "metadata": {},
     "output_type": "execute_result"
    }
   ],
   "source": [
    "metrics.accuracy_score(y_val, y_pred)"
   ]
  },
  {
   "cell_type": "code",
   "execution_count": 120,
   "metadata": {},
   "outputs": [
    {
     "data": {
      "text/plain": [
       "1.0"
      ]
     },
     "execution_count": 120,
     "metadata": {},
     "output_type": "execute_result"
    }
   ],
   "source": [
    "metrics.roc_auc_score(y_pred, y_pred_proba[:,1])"
   ]
  },
  {
   "cell_type": "code",
   "execution_count": 97,
   "metadata": {},
   "outputs": [
    {
     "data": {
      "text/plain": [
       "1.0"
      ]
     },
     "execution_count": 97,
     "metadata": {},
     "output_type": "execute_result"
    }
   ],
   "source": [
    "metrics.average_precision_score(y_pred, y_pred_proba[:,1])"
   ]
  },
  {
   "cell_type": "code",
   "execution_count": 107,
   "metadata": {},
   "outputs": [
    {
     "data": {
      "text/plain": [
       "418"
      ]
     },
     "execution_count": 107,
     "metadata": {},
     "output_type": "execute_result"
    }
   ],
   "source": [
    "len(test)"
   ]
  },
  {
   "cell_type": "code",
   "execution_count": 108,
   "metadata": {},
   "outputs": [
    {
     "data": {
      "text/plain": [
       "179"
      ]
     },
     "execution_count": 108,
     "metadata": {},
     "output_type": "execute_result"
    }
   ],
   "source": [
    "len(y_val)"
   ]
  },
  {
   "cell_type": "code",
   "execution_count": 124,
   "metadata": {},
   "outputs": [
    {
     "data": {
      "text/plain": [
       "DecisionTreeClassifier(max_depth=2)"
      ]
     },
     "execution_count": 124,
     "metadata": {},
     "output_type": "execute_result"
    }
   ],
   "source": [
    "trclf_final.fit(X_train_imputed_scaled, y_train)"
   ]
  },
  {
   "cell_type": "code",
   "execution_count": 125,
   "metadata": {},
   "outputs": [],
   "source": [
    "y_pred_fin = trclf_final.predict(X_test_imputed_scaled)"
   ]
  },
  {
   "cell_type": "code",
   "execution_count": 126,
   "metadata": {},
   "outputs": [
    {
     "data": {
      "text/plain": [
       "array([0, 0, 0, 0, 0, 0, 0, 0, 0, 0, 0, 0, 1, 0, 1, 1, 0, 0, 0, 0, 0, 0,\n",
       "       1, 0, 1, 0, 1, 0, 0, 0, 0, 0, 0, 0, 0, 0, 0, 0, 0, 0, 0, 0, 0, 1,\n",
       "       1, 0, 0, 0, 1, 0, 0, 0, 1, 1, 0, 0, 0, 0, 0, 1, 0, 0, 0, 0, 0, 1,\n",
       "       0, 0, 0, 1, 0, 0, 0, 0, 1, 0, 0, 1, 0, 0, 1, 0, 0, 0, 0, 0, 0, 0,\n",
       "       0, 1, 0, 0, 1, 0, 0, 0, 1, 0, 0, 0, 1, 0, 0, 0, 0, 0, 0, 0, 0, 0,\n",
       "       0, 0, 1, 0, 1, 0, 0, 0, 0, 1, 1, 0, 1, 0, 0, 0, 0, 0, 0, 0, 0, 0,\n",
       "       0, 0, 0, 0, 0, 0, 0, 0, 0, 1, 0, 0, 0, 0, 0, 0, 0, 0, 1, 0, 0, 0,\n",
       "       0, 0, 1, 0, 0, 0, 0, 0, 1, 0, 0, 0, 0, 0, 1, 0, 0, 0, 0, 0, 0, 1,\n",
       "       1, 0, 1, 1, 0, 0, 1, 0, 1, 0, 1, 0, 0, 0, 0, 0, 0, 0, 0, 0, 1, 0,\n",
       "       0, 0, 0, 1, 0, 1, 0, 0, 0, 0, 1, 0, 0, 0, 0, 1, 0, 0, 0, 0, 1, 0,\n",
       "       1, 0, 1, 0, 1, 0, 0, 0, 0, 0, 0, 1, 0, 0, 0, 0, 0, 0, 1, 1, 1, 1,\n",
       "       0, 0, 0, 0, 1, 0, 1, 0, 1, 0, 0, 0, 0, 0, 0, 0, 1, 0, 0, 0, 1, 0,\n",
       "       0, 0, 0, 0, 0, 0, 0, 0, 1, 0, 0, 1, 0, 0, 0, 0, 0, 1, 0, 0, 0, 0,\n",
       "       0, 0, 0, 0, 0, 0, 0, 0, 0, 0, 1, 0, 0, 0, 0, 0, 0, 0, 0, 1, 0, 1,\n",
       "       0, 0, 0, 0, 0, 0, 1, 0, 0, 0, 0, 0, 0, 0, 0, 0, 1, 0, 1, 0, 0, 0,\n",
       "       1, 0, 0, 0, 0, 0, 0, 0, 0, 0, 0, 0, 0, 1, 0, 0, 0, 0, 0, 1, 1, 0,\n",
       "       0, 0, 0, 0, 1, 0, 0, 0, 0, 1, 1, 0, 1, 0, 0, 0, 1, 0, 0, 1, 0, 0,\n",
       "       1, 1, 0, 0, 0, 1, 0, 0, 0, 0, 0, 1, 0, 0, 0, 1, 0, 1, 0, 0, 0, 1,\n",
       "       0, 1, 0, 0, 1, 0, 1, 0, 0, 0, 0, 0, 0, 0, 0, 1, 0, 0, 1, 0, 0, 0])"
      ]
     },
     "execution_count": 126,
     "metadata": {},
     "output_type": "execute_result"
    }
   ],
   "source": [
    "y_pred_fin"
   ]
  },
  {
   "cell_type": "code",
   "execution_count": 127,
   "metadata": {},
   "outputs": [],
   "source": [
    "test['Survived'] = y_pred_fin"
   ]
  },
  {
   "cell_type": "code",
   "execution_count": 132,
   "metadata": {},
   "outputs": [],
   "source": [
    "test.set_index('PassengerId').iloc[:,-1].to_frame().to_csv('Submit.csv')"
   ]
  },
  {
   "cell_type": "code",
   "execution_count": null,
   "metadata": {},
   "outputs": [],
   "source": []
  }
 ],
 "metadata": {
  "anaconda-cloud": {},
  "kernelspec": {
   "display_name": "Python 3",
   "language": "python",
   "name": "python3"
  },
  "language_info": {
   "codemirror_mode": {
    "name": "ipython",
    "version": 3
   },
   "file_extension": ".py",
   "mimetype": "text/x-python",
   "name": "python",
   "nbconvert_exporter": "python",
   "pygments_lexer": "ipython3",
   "version": "3.8.6"
  }
 },
 "nbformat": 4,
 "nbformat_minor": 4
}
